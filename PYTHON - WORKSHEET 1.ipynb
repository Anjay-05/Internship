{
 "cells": [
  {
   "cell_type": "markdown",
   "id": "c1e93db4",
   "metadata": {},
   "source": [
    "# PYTHON - WORKSHEET 1"
   ]
  },
  {
   "cell_type": "markdown",
   "id": "46bdd2ea",
   "metadata": {},
   "source": [
    "1. C)%\n",
    "2. B)0\n",
    "3. C)24\n",
    "4. A)2\n",
    "5. D)6\n",
    "6. C)The finally block will be executed no matter if the try block raises an error or not.\n",
    "7. A)It is used to raise an exception.\n",
    "8. C)In defining a generator\n",
    "9. A)_abc and C)abc2\n",
    "10. D)All of the above"
   ]
  },
  {
   "cell_type": "code",
   "execution_count": null,
   "id": "c124d22e",
   "metadata": {
    "collapsed": true
   },
   "outputs": [],
   "source": [
    "#11\n",
    "\n",
    "n=int(input(\"Enter the number : \"))\n",
    "\n",
    "factorial=1\n",
    "\n",
    "for i in range(1,n+1):\n",
    "    factorial=factorial*i\n",
    "    \n",
    "print(\"The factorial of \",n, \"is\" ,factorial )"
   ]
  },
  {
   "cell_type": "code",
   "execution_count": null,
   "id": "cb9a7c4c",
   "metadata": {
    "collapsed": true
   },
   "outputs": [],
   "source": [
    "#12\n",
    "\n",
    "n=int(input(\"Enter the number : \"))\n",
    "\n",
    "if n>1:\n",
    "    \n",
    "    for i in range(2,n):\n",
    "        if(n % i) == 0:\n",
    "            print(n,'is not a prime number')\n",
    "            break\n",
    "    else:\n",
    "            print(n,\"is a prime number\")\n",
    "else:\n",
    "    print(n,\"is not a prime number\")"
   ]
  },
  {
   "cell_type": "code",
   "execution_count": null,
   "id": "3da34e69",
   "metadata": {
    "collapsed": true
   },
   "outputs": [],
   "source": [
    "#13\n",
    "\n",
    "str1=input(\"Enter the string : \")\n",
    "\n",
    "restr=reversed(str1)\n",
    "\n",
    "if list(str1)==list(restr):\n",
    "    \n",
    "    print(\"The string is a palindrome\")\n",
    "    \n",
    "else:\n",
    "    \n",
    "    print(\"The string is not a palindrome\")"
   ]
  },
  {
   "cell_type": "code",
   "execution_count": null,
   "id": "66b20a3a",
   "metadata": {
    "collapsed": true
   },
   "outputs": [],
   "source": [
    "#14\n",
    "\n",
    "a=float(input(\"Enter the length of the side a : \"))\n",
    "b=float(input(\"Enter the length of the side b : \"))\n",
    "c=math.sqrt(a**2+b**2)\n",
    "print(\"The length of c is : \",c)"
   ]
  },
  {
   "cell_type": "code",
   "execution_count": null,
   "id": "927fc911",
   "metadata": {
    "collapsed": true
   },
   "outputs": [],
   "source": [
    "#15\n",
    "\n",
    "st=input(\"Enter the string : \")\n",
    "\n",
    "freq={}\n",
    "\n",
    "for i in st:\n",
    "    \n",
    "    if i in freq:\n",
    "        freq[i]=freq[i]+1\n",
    "    else:\n",
    "        freq[i]=1\n",
    "        \n",
    "print(\"Count of all characters in \",st,\"is :\\n \"+str(freq))"
   ]
  },
  {
   "cell_type": "code",
   "execution_count": null,
   "id": "e886d3b4",
   "metadata": {
    "collapsed": true
   },
   "outputs": [],
   "source": []
  }
 ],
 "metadata": {
  "kernelspec": {
   "display_name": "Python 3",
   "language": "python",
   "name": "python3"
  },
  "language_info": {
   "codemirror_mode": {
    "name": "ipython",
    "version": 3
   },
   "file_extension": ".py",
   "mimetype": "text/x-python",
   "name": "python",
   "nbconvert_exporter": "python",
   "pygments_lexer": "ipython3",
   "version": "3.8.8"
  }
 },
 "nbformat": 4,
 "nbformat_minor": 5
}
