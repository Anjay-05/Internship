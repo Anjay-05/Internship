{
 "cells": [
  {
   "cell_type": "code",
   "execution_count": 1,
   "id": "3406c9cc",
   "metadata": {},
   "outputs": [],
   "source": [
    "#importing libraries\n",
    "import pandas as pd\n",
    "import selenium\n",
    "from selenium import webdriver"
   ]
  },
  {
   "cell_type": "markdown",
   "id": "9eb314fe",
   "metadata": {},
   "source": [
    "# 1."
   ]
  },
  {
   "cell_type": "code",
   "execution_count": 18,
   "id": "e7b448bf",
   "metadata": {},
   "outputs": [
    {
     "name": "stderr",
     "output_type": "stream",
     "text": [
      "<ipython-input-18-3316efb47fbe>:2: DeprecationWarning: executable_path has been deprecated, please pass in a Service object\n",
      "  driver=webdriver.Chrome(r\"C:\\Users\\user\\Downloads\\chromedriver_win32\\chromedriver.exe\")\n"
     ]
    }
   ],
   "source": [
    "#Connecting to web driver\n",
    "driver=webdriver.Chrome(r\"C:\\Users\\user\\Downloads\\chromedriver_win32\\chromedriver.exe\")"
   ]
  },
  {
   "cell_type": "code",
   "execution_count": 19,
   "id": "8defdd94",
   "metadata": {},
   "outputs": [],
   "source": [
    "#1.Getting the web page\n",
    "driver.get(\"https://www.naukri.com/\")"
   ]
  },
  {
   "cell_type": "code",
   "execution_count": 21,
   "id": "ae4440e1",
   "metadata": {},
   "outputs": [
    {
     "name": "stderr",
     "output_type": "stream",
     "text": [
      "<ipython-input-21-3af3952aeb63>:2: DeprecationWarning: find_element_by_* commands are deprecated. Please use find_element() instead\n",
      "  job_search=driver.find_element_by_id(\"qsb-keyword-sugg\")\n",
      "<ipython-input-21-3af3952aeb63>:4: DeprecationWarning: find_element_by_* commands are deprecated. Please use find_element() instead\n",
      "  job_loc=driver.find_element_by_xpath(\"//input[@id='qsb-location-sugg']\")\n"
     ]
    }
   ],
   "source": [
    "#2.Entering the data to be search\n",
    "job_search=driver.find_element_by_id(\"qsb-keyword-sugg\")\n",
    "job_search.send_keys(\"Data Analyst\")\n",
    "job_loc=driver.find_element_by_xpath(\"//input[@id='qsb-location-sugg']\")\n",
    "job_loc.send_keys(\"Bangalore\")"
   ]
  },
  {
   "cell_type": "code",
   "execution_count": 22,
   "id": "1f767f53",
   "metadata": {},
   "outputs": [
    {
     "name": "stderr",
     "output_type": "stream",
     "text": [
      "<ipython-input-22-33bf4d982674>:2: DeprecationWarning: find_element_by_* commands are deprecated. Please use find_element() instead\n",
      "  btn_search=driver.find_element_by_xpath(\"//div[@class='search-btn']/button\")\n"
     ]
    }
   ],
   "source": [
    "#3. Clicking search button\n",
    "btn_search=driver.find_element_by_xpath(\"//div[@class='search-btn']/button\")\n",
    "btn_search.click()"
   ]
  },
  {
   "cell_type": "code",
   "execution_count": 23,
   "id": "ce3babce",
   "metadata": {},
   "outputs": [],
   "source": [
    "#4.\n",
    "# Creating empty list to store scrapping data\n",
    "jobs=[]\n",
    "location=[]\n",
    "company=[]\n",
    "experience=[]"
   ]
  },
  {
   "cell_type": "code",
   "execution_count": 24,
   "id": "6299b19e",
   "metadata": {},
   "outputs": [
    {
     "name": "stderr",
     "output_type": "stream",
     "text": [
      "<ipython-input-24-70e746259687>:2: DeprecationWarning: find_elements_by_* commands are deprecated. Please use find_elements() instead\n",
      "  jobtag=driver.find_elements_by_xpath(\"//a[@class='title fw500 ellipsis']\")\n"
     ]
    },
    {
     "data": {
      "text/plain": [
       "[<selenium.webdriver.remote.webelement.WebElement (session=\"4ae05ba59a438f02b8f05fe259566a9d\", element=\"3a571ebd-c458-48eb-9b4d-63814cdb9c5c\")>,\n",
       " <selenium.webdriver.remote.webelement.WebElement (session=\"4ae05ba59a438f02b8f05fe259566a9d\", element=\"9af72c6e-a43e-436e-b648-87487499bb74\")>,\n",
       " <selenium.webdriver.remote.webelement.WebElement (session=\"4ae05ba59a438f02b8f05fe259566a9d\", element=\"f2471923-b56c-4c03-a0f0-fbba324fee24\")>,\n",
       " <selenium.webdriver.remote.webelement.WebElement (session=\"4ae05ba59a438f02b8f05fe259566a9d\", element=\"1308ad5c-a518-4fcb-b9d6-f1cd2c0d6dd8\")>]"
      ]
     },
     "execution_count": 24,
     "metadata": {},
     "output_type": "execute_result"
    }
   ],
   "source": [
    "#Extracting the job title tags\n",
    "jobtag=driver.find_elements_by_xpath(\"//a[@class='title fw500 ellipsis']\")\n",
    "jobtag[0:4]"
   ]
  },
  {
   "cell_type": "code",
   "execution_count": 25,
   "id": "483a8b60",
   "metadata": {},
   "outputs": [
    {
     "data": {
      "text/plain": [
       "['Business Data Analyst(BigId) - Capco - Bangalore',\n",
       " 'Data Analyst - Flipkart Analytics',\n",
       " 'Senior Data Analyst',\n",
       " 'Sr Data Analyst',\n",
       " 'Business Data Analyst - Database Design/Mining',\n",
       " 'Urgent Openings For Data Analyst / Business Analyst',\n",
       " 'Software Technologist II - Data Analyst',\n",
       " 'Hiring For Data Analyst - Payment System Intelligence',\n",
       " 'Senior Data Analyst',\n",
       " 'Data Analyst']"
      ]
     },
     "execution_count": 25,
     "metadata": {},
     "output_type": "execute_result"
    }
   ],
   "source": [
    "#Extracting the text from the tags\n",
    "for i in jobtag:\n",
    "    title=i.text\n",
    "    jobs.append(title)\n",
    "Job=jobs[0:10]\n",
    "Job"
   ]
  },
  {
   "cell_type": "code",
   "execution_count": 26,
   "id": "67d5a5b0",
   "metadata": {},
   "outputs": [
    {
     "name": "stderr",
     "output_type": "stream",
     "text": [
      "<ipython-input-26-e74a55812773>:2: DeprecationWarning: find_elements_by_* commands are deprecated. Please use find_elements() instead\n",
      "  locationtag=driver.find_elements_by_xpath(\"//li[@class='fleft grey-text br2 placeHolderLi location']/span[1]\")\n"
     ]
    },
    {
     "data": {
      "text/plain": [
       "[<selenium.webdriver.remote.webelement.WebElement (session=\"4ae05ba59a438f02b8f05fe259566a9d\", element=\"b55c4358-5d11-414e-bc93-bbf97e46a88b\")>,\n",
       " <selenium.webdriver.remote.webelement.WebElement (session=\"4ae05ba59a438f02b8f05fe259566a9d\", element=\"904e2224-c140-44c2-bfc4-c32db14b884e\")>,\n",
       " <selenium.webdriver.remote.webelement.WebElement (session=\"4ae05ba59a438f02b8f05fe259566a9d\", element=\"58de226a-657b-433d-a54f-15baaa3582a1\")>,\n",
       " <selenium.webdriver.remote.webelement.WebElement (session=\"4ae05ba59a438f02b8f05fe259566a9d\", element=\"c1a98fe0-d5d8-4204-b8a2-2ac74db0e4bd\")>]"
      ]
     },
     "execution_count": 26,
     "metadata": {},
     "output_type": "execute_result"
    }
   ],
   "source": [
    "#Extracting the location tags\n",
    "locationtag=driver.find_elements_by_xpath(\"//li[@class='fleft grey-text br2 placeHolderLi location']/span[1]\")\n",
    "locationtag[0:4]"
   ]
  },
  {
   "cell_type": "code",
   "execution_count": 27,
   "id": "a8480d91",
   "metadata": {},
   "outputs": [
    {
     "data": {
      "text/plain": [
       "['Bangalore/Bengaluru',\n",
       " 'Bangalore/Bengaluru(Bellandur)',\n",
       " 'Bangalore/Bengaluru',\n",
       " 'Bangalore/Bengaluru',\n",
       " 'Bangalore/Bengaluru',\n",
       " 'Bangalore/Bengaluru',\n",
       " 'Bangalore/Bengaluru',\n",
       " 'Gurgaon/Gurugram, Bangalore/Bengaluru, Mumbai (All Areas)',\n",
       " 'Bangalore/Bengaluru',\n",
       " 'Bangalore/Bengaluru']"
      ]
     },
     "execution_count": 27,
     "metadata": {},
     "output_type": "execute_result"
    }
   ],
   "source": [
    "#Extracting the text from the location tags\n",
    "for i in locationtag:\n",
    "    ltag=i.text\n",
    "    location.append(ltag)\n",
    "Location=location[0:10]\n",
    "Location"
   ]
  },
  {
   "cell_type": "code",
   "execution_count": 28,
   "id": "c7e2eaf7",
   "metadata": {},
   "outputs": [
    {
     "name": "stderr",
     "output_type": "stream",
     "text": [
      "<ipython-input-28-8df48608260f>:2: DeprecationWarning: find_elements_by_* commands are deprecated. Please use find_elements() instead\n",
      "  companytag=driver.find_elements_by_xpath(\"//a[@class='subTitle ellipsis fleft']\")\n"
     ]
    },
    {
     "data": {
      "text/plain": [
       "[<selenium.webdriver.remote.webelement.WebElement (session=\"4ae05ba59a438f02b8f05fe259566a9d\", element=\"446c9039-e944-4e80-9cdb-93e24b9c5bcd\")>,\n",
       " <selenium.webdriver.remote.webelement.WebElement (session=\"4ae05ba59a438f02b8f05fe259566a9d\", element=\"67e08caf-ea5e-4660-bcb0-2d8b0c30a6b7\")>,\n",
       " <selenium.webdriver.remote.webelement.WebElement (session=\"4ae05ba59a438f02b8f05fe259566a9d\", element=\"6f0c7719-4346-44bc-8406-37333b524108\")>,\n",
       " <selenium.webdriver.remote.webelement.WebElement (session=\"4ae05ba59a438f02b8f05fe259566a9d\", element=\"8a511abd-70d3-4b0d-adcc-b309c54a0854\")>]"
      ]
     },
     "execution_count": 28,
     "metadata": {},
     "output_type": "execute_result"
    }
   ],
   "source": [
    "#Extracting the company name tags\n",
    "companytag=driver.find_elements_by_xpath(\"//a[@class='subTitle ellipsis fleft']\")\n",
    "companytag[0:4]"
   ]
  },
  {
   "cell_type": "code",
   "execution_count": 29,
   "id": "802bc122",
   "metadata": {},
   "outputs": [
    {
     "data": {
      "text/plain": [
       "['Capco Technologies Pvt Ltd',\n",
       " 'Flipkart',\n",
       " 'Pioneer Business Solutions',\n",
       " 'Pioneer Business Solutions',\n",
       " 'AugmatrixGo',\n",
       " 'Flipkart',\n",
       " 'Philips India Limited',\n",
       " 'Genpact',\n",
       " 'Kwalee ltd.',\n",
       " 'Novel Office']"
      ]
     },
     "execution_count": 29,
     "metadata": {},
     "output_type": "execute_result"
    }
   ],
   "source": [
    "#Extracting the text from company name tags\n",
    "for i in companytag:\n",
    "    ctag=i.text\n",
    "    company.append(ctag)\n",
    "Company=company[0:10]\n",
    "Company"
   ]
  },
  {
   "cell_type": "code",
   "execution_count": 30,
   "id": "c4ec9d4e",
   "metadata": {},
   "outputs": [
    {
     "name": "stderr",
     "output_type": "stream",
     "text": [
      "<ipython-input-30-b7ee6a335773>:2: DeprecationWarning: find_elements_by_* commands are deprecated. Please use find_elements() instead\n",
      "  exptag=driver.find_elements_by_xpath(\"//li[@class='fleft grey-text br2 placeHolderLi experience']/span[1]\")\n"
     ]
    },
    {
     "data": {
      "text/plain": [
       "[<selenium.webdriver.remote.webelement.WebElement (session=\"4ae05ba59a438f02b8f05fe259566a9d\", element=\"09f6593c-1513-47c5-af05-7b1c7989b554\")>,\n",
       " <selenium.webdriver.remote.webelement.WebElement (session=\"4ae05ba59a438f02b8f05fe259566a9d\", element=\"ec0f26be-79be-42ed-b78e-7eb6bdbf56c3\")>,\n",
       " <selenium.webdriver.remote.webelement.WebElement (session=\"4ae05ba59a438f02b8f05fe259566a9d\", element=\"7bfe7c64-f5cf-43b9-9ccf-399c86228a68\")>,\n",
       " <selenium.webdriver.remote.webelement.WebElement (session=\"4ae05ba59a438f02b8f05fe259566a9d\", element=\"56e2b34d-2cd3-43ce-8e19-d979eb6115e3\")>]"
      ]
     },
     "execution_count": 30,
     "metadata": {},
     "output_type": "execute_result"
    }
   ],
   "source": [
    "#Extracting the experience tags\n",
    "exptag=driver.find_elements_by_xpath(\"//li[@class='fleft grey-text br2 placeHolderLi experience']/span[1]\")\n",
    "exptag[0:4]"
   ]
  },
  {
   "cell_type": "code",
   "execution_count": 31,
   "id": "b7c30d66",
   "metadata": {},
   "outputs": [
    {
     "data": {
      "text/plain": [
       "['3-8 Yrs',\n",
       " '0-3 Yrs',\n",
       " '6-11 Yrs',\n",
       " '3-8 Yrs',\n",
       " '2-5 Yrs',\n",
       " '1-6 Yrs',\n",
       " '6-11 Yrs',\n",
       " '4-9 Yrs',\n",
       " '5-10 Yrs',\n",
       " '0-3 Yrs']"
      ]
     },
     "execution_count": 31,
     "metadata": {},
     "output_type": "execute_result"
    }
   ],
   "source": [
    "#extracting the text from tags\n",
    "for i in exptag:\n",
    "    etag=i.text\n",
    "    experience.append(etag)\n",
    "Exp=experience[0:10]\n",
    "Exp"
   ]
  },
  {
   "cell_type": "code",
   "execution_count": 32,
   "id": "702b4901",
   "metadata": {},
   "outputs": [
    {
     "name": "stdout",
     "output_type": "stream",
     "text": [
      "10 10 10 10\n"
     ]
    }
   ],
   "source": [
    "print(len(Job),len(Location),len(Company),len(Exp))"
   ]
  },
  {
   "cell_type": "code",
   "execution_count": 33,
   "id": "89c938b0",
   "metadata": {},
   "outputs": [],
   "source": [
    "#5. Creating Dataframe\n",
    "Data=pd.DataFrame({})\n",
    "Data['Job-title']=Job\n",
    "Data['Company-name']=Company\n",
    "Data['Job-location']=Location\n",
    "Data['Experience-required']=Exp"
   ]
  },
  {
   "cell_type": "code",
   "execution_count": 34,
   "id": "9c91032c",
   "metadata": {},
   "outputs": [
    {
     "data": {
      "text/html": [
       "<div>\n",
       "<style scoped>\n",
       "    .dataframe tbody tr th:only-of-type {\n",
       "        vertical-align: middle;\n",
       "    }\n",
       "\n",
       "    .dataframe tbody tr th {\n",
       "        vertical-align: top;\n",
       "    }\n",
       "\n",
       "    .dataframe thead th {\n",
       "        text-align: right;\n",
       "    }\n",
       "</style>\n",
       "<table border=\"1\" class=\"dataframe\">\n",
       "  <thead>\n",
       "    <tr style=\"text-align: right;\">\n",
       "      <th></th>\n",
       "      <th>Job-title</th>\n",
       "      <th>Company-name</th>\n",
       "      <th>Job-location</th>\n",
       "      <th>Experience-required</th>\n",
       "    </tr>\n",
       "  </thead>\n",
       "  <tbody>\n",
       "    <tr>\n",
       "      <th>0</th>\n",
       "      <td>Business Data Analyst(BigId) - Capco - Bangalore</td>\n",
       "      <td>Capco Technologies Pvt Ltd</td>\n",
       "      <td>Bangalore/Bengaluru</td>\n",
       "      <td>3-8 Yrs</td>\n",
       "    </tr>\n",
       "    <tr>\n",
       "      <th>1</th>\n",
       "      <td>Data Analyst - Flipkart Analytics</td>\n",
       "      <td>Flipkart</td>\n",
       "      <td>Bangalore/Bengaluru(Bellandur)</td>\n",
       "      <td>0-3 Yrs</td>\n",
       "    </tr>\n",
       "    <tr>\n",
       "      <th>2</th>\n",
       "      <td>Senior Data Analyst</td>\n",
       "      <td>Pioneer Business Solutions</td>\n",
       "      <td>Bangalore/Bengaluru</td>\n",
       "      <td>6-11 Yrs</td>\n",
       "    </tr>\n",
       "    <tr>\n",
       "      <th>3</th>\n",
       "      <td>Sr Data Analyst</td>\n",
       "      <td>Pioneer Business Solutions</td>\n",
       "      <td>Bangalore/Bengaluru</td>\n",
       "      <td>3-8 Yrs</td>\n",
       "    </tr>\n",
       "    <tr>\n",
       "      <th>4</th>\n",
       "      <td>Business Data Analyst - Database Design/Mining</td>\n",
       "      <td>AugmatrixGo</td>\n",
       "      <td>Bangalore/Bengaluru</td>\n",
       "      <td>2-5 Yrs</td>\n",
       "    </tr>\n",
       "    <tr>\n",
       "      <th>5</th>\n",
       "      <td>Urgent Openings For Data Analyst / Business An...</td>\n",
       "      <td>Flipkart</td>\n",
       "      <td>Bangalore/Bengaluru</td>\n",
       "      <td>1-6 Yrs</td>\n",
       "    </tr>\n",
       "    <tr>\n",
       "      <th>6</th>\n",
       "      <td>Software Technologist II - Data Analyst</td>\n",
       "      <td>Philips India Limited</td>\n",
       "      <td>Bangalore/Bengaluru</td>\n",
       "      <td>6-11 Yrs</td>\n",
       "    </tr>\n",
       "    <tr>\n",
       "      <th>7</th>\n",
       "      <td>Hiring For Data Analyst - Payment System Intel...</td>\n",
       "      <td>Genpact</td>\n",
       "      <td>Gurgaon/Gurugram, Bangalore/Bengaluru, Mumbai ...</td>\n",
       "      <td>4-9 Yrs</td>\n",
       "    </tr>\n",
       "    <tr>\n",
       "      <th>8</th>\n",
       "      <td>Senior Data Analyst</td>\n",
       "      <td>Kwalee ltd.</td>\n",
       "      <td>Bangalore/Bengaluru</td>\n",
       "      <td>5-10 Yrs</td>\n",
       "    </tr>\n",
       "    <tr>\n",
       "      <th>9</th>\n",
       "      <td>Data Analyst</td>\n",
       "      <td>Novel Office</td>\n",
       "      <td>Bangalore/Bengaluru</td>\n",
       "      <td>0-3 Yrs</td>\n",
       "    </tr>\n",
       "  </tbody>\n",
       "</table>\n",
       "</div>"
      ],
      "text/plain": [
       "                                           Job-title  \\\n",
       "0   Business Data Analyst(BigId) - Capco - Bangalore   \n",
       "1                  Data Analyst - Flipkart Analytics   \n",
       "2                                Senior Data Analyst   \n",
       "3                                    Sr Data Analyst   \n",
       "4     Business Data Analyst - Database Design/Mining   \n",
       "5  Urgent Openings For Data Analyst / Business An...   \n",
       "6            Software Technologist II - Data Analyst   \n",
       "7  Hiring For Data Analyst - Payment System Intel...   \n",
       "8                                Senior Data Analyst   \n",
       "9                                       Data Analyst   \n",
       "\n",
       "                 Company-name  \\\n",
       "0  Capco Technologies Pvt Ltd   \n",
       "1                    Flipkart   \n",
       "2  Pioneer Business Solutions   \n",
       "3  Pioneer Business Solutions   \n",
       "4                 AugmatrixGo   \n",
       "5                    Flipkart   \n",
       "6       Philips India Limited   \n",
       "7                     Genpact   \n",
       "8                 Kwalee ltd.   \n",
       "9                Novel Office   \n",
       "\n",
       "                                        Job-location Experience-required  \n",
       "0                                Bangalore/Bengaluru             3-8 Yrs  \n",
       "1                     Bangalore/Bengaluru(Bellandur)             0-3 Yrs  \n",
       "2                                Bangalore/Bengaluru            6-11 Yrs  \n",
       "3                                Bangalore/Bengaluru             3-8 Yrs  \n",
       "4                                Bangalore/Bengaluru             2-5 Yrs  \n",
       "5                                Bangalore/Bengaluru             1-6 Yrs  \n",
       "6                                Bangalore/Bengaluru            6-11 Yrs  \n",
       "7  Gurgaon/Gurugram, Bangalore/Bengaluru, Mumbai ...             4-9 Yrs  \n",
       "8                                Bangalore/Bengaluru            5-10 Yrs  \n",
       "9                                Bangalore/Bengaluru             0-3 Yrs  "
      ]
     },
     "execution_count": 34,
     "metadata": {},
     "output_type": "execute_result"
    }
   ],
   "source": [
    "Data"
   ]
  },
  {
   "cell_type": "markdown",
   "id": "14615f06",
   "metadata": {},
   "source": [
    "# 2."
   ]
  },
  {
   "cell_type": "code",
   "execution_count": 46,
   "id": "5aeee677",
   "metadata": {},
   "outputs": [
    {
     "name": "stderr",
     "output_type": "stream",
     "text": [
      "<ipython-input-46-3316efb47fbe>:2: DeprecationWarning: executable_path has been deprecated, please pass in a Service object\n",
      "  driver=webdriver.Chrome(r\"C:\\Users\\user\\Downloads\\chromedriver_win32\\chromedriver.exe\")\n"
     ]
    }
   ],
   "source": [
    "#Connecting to web driver\n",
    "driver=webdriver.Chrome(r\"C:\\Users\\user\\Downloads\\chromedriver_win32\\chromedriver.exe\")"
   ]
  },
  {
   "cell_type": "code",
   "execution_count": 47,
   "id": "8ca2e4a5",
   "metadata": {},
   "outputs": [],
   "source": [
    "#1.Getting the web page\n",
    "driver.get(\"https://www.naukri.com/\")"
   ]
  },
  {
   "cell_type": "code",
   "execution_count": 48,
   "id": "1336b70f",
   "metadata": {},
   "outputs": [
    {
     "name": "stderr",
     "output_type": "stream",
     "text": [
      "<ipython-input-48-2a3c526783f0>:2: DeprecationWarning: find_element_by_* commands are deprecated. Please use find_element() instead\n",
      "  jobsearch=driver.find_element_by_id(\"qsb-keyword-sugg\")\n",
      "<ipython-input-48-2a3c526783f0>:4: DeprecationWarning: find_element_by_* commands are deprecated. Please use find_element() instead\n",
      "  jobloc=driver.find_element_by_xpath(\"//input[@id='qsb-location-sugg']\")\n"
     ]
    }
   ],
   "source": [
    "#2.Entering the data to be search\n",
    "jobsearch=driver.find_element_by_id(\"qsb-keyword-sugg\")\n",
    "jobsearch.send_keys(\"Data Scientist\")\n",
    "jobloc=driver.find_element_by_xpath(\"//input[@id='qsb-location-sugg']\")\n",
    "jobloc.send_keys(\"Bangalore\")"
   ]
  },
  {
   "cell_type": "code",
   "execution_count": 49,
   "id": "bbfdbb5c",
   "metadata": {},
   "outputs": [
    {
     "name": "stderr",
     "output_type": "stream",
     "text": [
      "<ipython-input-49-38b865d32a6a>:2: DeprecationWarning: find_element_by_* commands are deprecated. Please use find_element() instead\n",
      "  btnsearch=driver.find_element_by_xpath(\"//div[@class='search-btn']/button\")\n"
     ]
    }
   ],
   "source": [
    "#3. Clicking search button\n",
    "btnsearch=driver.find_element_by_xpath(\"//div[@class='search-btn']/button\")\n",
    "btnsearch.click()"
   ]
  },
  {
   "cell_type": "code",
   "execution_count": 50,
   "id": "9be4402f",
   "metadata": {},
   "outputs": [],
   "source": [
    "#4. Creating empty list to store the data\n",
    "job_s=[]\n",
    "company_s=[]\n",
    "location_s=[]"
   ]
  },
  {
   "cell_type": "code",
   "execution_count": 51,
   "id": "39f1d24b",
   "metadata": {},
   "outputs": [
    {
     "name": "stderr",
     "output_type": "stream",
     "text": [
      "<ipython-input-51-4849952bd2b8>:2: DeprecationWarning: find_elements_by_* commands are deprecated. Please use find_elements() instead\n",
      "  titletag=driver.find_elements_by_xpath(\"//a[@class='title fw500 ellipsis']\")\n"
     ]
    },
    {
     "data": {
      "text/plain": [
       "[<selenium.webdriver.remote.webelement.WebElement (session=\"490bc3844f37669d9ba869a3bb85177d\", element=\"09c49d2f-8a4c-4819-94c9-337eb574b02b\")>,\n",
       " <selenium.webdriver.remote.webelement.WebElement (session=\"490bc3844f37669d9ba869a3bb85177d\", element=\"358f2fb9-1bd8-4f81-806b-ad5e256805ee\")>,\n",
       " <selenium.webdriver.remote.webelement.WebElement (session=\"490bc3844f37669d9ba869a3bb85177d\", element=\"4fadaa5c-02bd-4584-8e6b-43b61a9716dd\")>,\n",
       " <selenium.webdriver.remote.webelement.WebElement (session=\"490bc3844f37669d9ba869a3bb85177d\", element=\"48e624ac-d3e1-4445-bcc2-741101d219a4\")>]"
      ]
     },
     "execution_count": 51,
     "metadata": {},
     "output_type": "execute_result"
    }
   ],
   "source": [
    "#Extracting the job title tags\n",
    "titletag=driver.find_elements_by_xpath(\"//a[@class='title fw500 ellipsis']\")\n",
    "titletag[0:4]"
   ]
  },
  {
   "cell_type": "code",
   "execution_count": 52,
   "id": "8789c29b",
   "metadata": {},
   "outputs": [
    {
     "data": {
      "text/plain": [
       "['Senior Data Scientist',\n",
       " 'Data Scientist',\n",
       " 'Lead Data Scientist',\n",
       " 'Lead Data Scientist',\n",
       " 'Senior Data Scientist / Tech Lead - SQL / Python / Big Data',\n",
       " 'Senior / Lead Data Scientist',\n",
       " 'Forecasting Analyst/ Data Scientist (US Client)',\n",
       " 'Data Scientist, Agribusiness Intelligence',\n",
       " 'Data Scientist',\n",
       " 'Data Scientist']"
      ]
     },
     "execution_count": 52,
     "metadata": {},
     "output_type": "execute_result"
    }
   ],
   "source": [
    "#extracting the text from tags\n",
    "for i in titletag:\n",
    "    ttag=i.text\n",
    "    job_s.append(ttag)\n",
    "Job_s=job_s[0:10]\n",
    "Job_s"
   ]
  },
  {
   "cell_type": "code",
   "execution_count": 53,
   "id": "90852410",
   "metadata": {},
   "outputs": [
    {
     "name": "stderr",
     "output_type": "stream",
     "text": [
      "<ipython-input-53-31e17a2e269c>:2: DeprecationWarning: find_elements_by_* commands are deprecated. Please use find_elements() instead\n",
      "  tagcompany=driver.find_elements_by_xpath(\"//a[@class='subTitle ellipsis fleft']\")\n"
     ]
    },
    {
     "data": {
      "text/plain": [
       "[<selenium.webdriver.remote.webelement.WebElement (session=\"490bc3844f37669d9ba869a3bb85177d\", element=\"d2669673-0118-4fe9-9ea9-5885df33db94\")>,\n",
       " <selenium.webdriver.remote.webelement.WebElement (session=\"490bc3844f37669d9ba869a3bb85177d\", element=\"cc10c6a5-660a-442e-ba45-f83aff568c9e\")>,\n",
       " <selenium.webdriver.remote.webelement.WebElement (session=\"490bc3844f37669d9ba869a3bb85177d\", element=\"f2e8ad6c-54c9-4e20-b1ac-d6915c9ab02d\")>,\n",
       " <selenium.webdriver.remote.webelement.WebElement (session=\"490bc3844f37669d9ba869a3bb85177d\", element=\"e6187b19-8763-4394-847a-898e99fd31e9\")>]"
      ]
     },
     "execution_count": 53,
     "metadata": {},
     "output_type": "execute_result"
    }
   ],
   "source": [
    "#Extracting the company tags\n",
    "tagcompany=driver.find_elements_by_xpath(\"//a[@class='subTitle ellipsis fleft']\")\n",
    "tagcompany[0:4]"
   ]
  },
  {
   "cell_type": "code",
   "execution_count": 54,
   "id": "63f854ff",
   "metadata": {},
   "outputs": [
    {
     "data": {
      "text/plain": [
       "['Kwalee India Pvt Ltd.',\n",
       " 'Visa',\n",
       " 'Team4Progress',\n",
       " 'TransOrg Solutions Services (P) Ltd.',\n",
       " 'Exploro Solutions',\n",
       " 'CoreEdge Solutions',\n",
       " 'Concentrix Daksh Services',\n",
       " 'IHS Markit',\n",
       " 'Kwalee India Pvt Ltd.',\n",
       " 'Binary Fountain Solutions India Pvt. Ltd']"
      ]
     },
     "execution_count": 54,
     "metadata": {},
     "output_type": "execute_result"
    }
   ],
   "source": [
    "#Extracting text from the tags\n",
    "for i in tagcompany:\n",
    "    Ctag=i.text\n",
    "    company_s.append(Ctag)\n",
    "Company_s=company_s[0:10]\n",
    "Company_s"
   ]
  },
  {
   "cell_type": "code",
   "execution_count": 55,
   "id": "cc289002",
   "metadata": {},
   "outputs": [
    {
     "name": "stderr",
     "output_type": "stream",
     "text": [
      "<ipython-input-55-eb4abad03672>:2: DeprecationWarning: find_elements_by_* commands are deprecated. Please use find_elements() instead\n",
      "  taglocation=driver.find_elements_by_xpath(\"//li[@class='fleft grey-text br2 placeHolderLi location']/span[1]\")\n"
     ]
    },
    {
     "data": {
      "text/plain": [
       "[<selenium.webdriver.remote.webelement.WebElement (session=\"490bc3844f37669d9ba869a3bb85177d\", element=\"13ccafe9-c48b-4dc4-bff4-ea52898d7f21\")>,\n",
       " <selenium.webdriver.remote.webelement.WebElement (session=\"490bc3844f37669d9ba869a3bb85177d\", element=\"0ac0f093-2809-4fd9-8e59-1305eb8635fb\")>,\n",
       " <selenium.webdriver.remote.webelement.WebElement (session=\"490bc3844f37669d9ba869a3bb85177d\", element=\"01959eb3-93d9-44f3-a599-27648665df9d\")>,\n",
       " <selenium.webdriver.remote.webelement.WebElement (session=\"490bc3844f37669d9ba869a3bb85177d\", element=\"8e16eb46-6ece-4383-9511-1199ee5f95b4\")>]"
      ]
     },
     "execution_count": 55,
     "metadata": {},
     "output_type": "execute_result"
    }
   ],
   "source": [
    "#Extracting the location tags\n",
    "taglocation=driver.find_elements_by_xpath(\"//li[@class='fleft grey-text br2 placeHolderLi location']/span[1]\")\n",
    "taglocation[0:4]"
   ]
  },
  {
   "cell_type": "code",
   "execution_count": 56,
   "id": "ca45dc63",
   "metadata": {},
   "outputs": [
    {
     "data": {
      "text/plain": [
       "['Bangalore/Bengaluru',\n",
       " 'Bangalore/Bengaluru',\n",
       " 'Mumbai, Pune, Bangalore/Bengaluru',\n",
       " 'Bangalore/Bengaluru, Delhi / NCR, Mumbai (All Areas)',\n",
       " 'Pune, Chennai, Bangalore/Bengaluru',\n",
       " 'Hyderabad/Secunderabad, Pune, Bangalore/Bengaluru',\n",
       " 'Gurgaon/Gurugram, Bangalore/Bengaluru',\n",
       " 'Bangalore/Bengaluru',\n",
       " 'Bangalore/Bengaluru',\n",
       " 'Bangalore/Bengaluru, Trivandrum/Thiruvananthapuram']"
      ]
     },
     "execution_count": 56,
     "metadata": {},
     "output_type": "execute_result"
    }
   ],
   "source": [
    "#extracting the text from tags\n",
    "for i in taglocation:\n",
    "    Ltag=i.text\n",
    "    location_s.append(Ltag)\n",
    "Location_s=location_s[0:10]\n",
    "Location_s"
   ]
  },
  {
   "cell_type": "code",
   "execution_count": 57,
   "id": "c5d169e8",
   "metadata": {},
   "outputs": [
    {
     "name": "stdout",
     "output_type": "stream",
     "text": [
      "10 10 10\n"
     ]
    }
   ],
   "source": [
    "print(len(Job_s),len(Company_s),len(Location_s))"
   ]
  },
  {
   "cell_type": "code",
   "execution_count": 58,
   "id": "c861f661",
   "metadata": {},
   "outputs": [],
   "source": [
    "#5.Creating dataframe\n",
    "JOB=pd.DataFrame({})\n",
    "JOB['Job-title']=Job_s\n",
    "JOB['Company-name']=Company_s\n",
    "JOB['Job-location']=Location_s"
   ]
  },
  {
   "cell_type": "code",
   "execution_count": 59,
   "id": "33f9cbff",
   "metadata": {},
   "outputs": [
    {
     "data": {
      "text/html": [
       "<div>\n",
       "<style scoped>\n",
       "    .dataframe tbody tr th:only-of-type {\n",
       "        vertical-align: middle;\n",
       "    }\n",
       "\n",
       "    .dataframe tbody tr th {\n",
       "        vertical-align: top;\n",
       "    }\n",
       "\n",
       "    .dataframe thead th {\n",
       "        text-align: right;\n",
       "    }\n",
       "</style>\n",
       "<table border=\"1\" class=\"dataframe\">\n",
       "  <thead>\n",
       "    <tr style=\"text-align: right;\">\n",
       "      <th></th>\n",
       "      <th>Job-title</th>\n",
       "      <th>Company-name</th>\n",
       "      <th>Job-location</th>\n",
       "    </tr>\n",
       "  </thead>\n",
       "  <tbody>\n",
       "    <tr>\n",
       "      <th>0</th>\n",
       "      <td>Senior Data Scientist</td>\n",
       "      <td>Kwalee India Pvt Ltd.</td>\n",
       "      <td>Bangalore/Bengaluru</td>\n",
       "    </tr>\n",
       "    <tr>\n",
       "      <th>1</th>\n",
       "      <td>Data Scientist</td>\n",
       "      <td>Visa</td>\n",
       "      <td>Bangalore/Bengaluru</td>\n",
       "    </tr>\n",
       "    <tr>\n",
       "      <th>2</th>\n",
       "      <td>Lead Data Scientist</td>\n",
       "      <td>Team4Progress</td>\n",
       "      <td>Mumbai, Pune, Bangalore/Bengaluru</td>\n",
       "    </tr>\n",
       "    <tr>\n",
       "      <th>3</th>\n",
       "      <td>Lead Data Scientist</td>\n",
       "      <td>TransOrg Solutions Services (P) Ltd.</td>\n",
       "      <td>Bangalore/Bengaluru, Delhi / NCR, Mumbai (All ...</td>\n",
       "    </tr>\n",
       "    <tr>\n",
       "      <th>4</th>\n",
       "      <td>Senior Data Scientist / Tech Lead - SQL / Pyth...</td>\n",
       "      <td>Exploro Solutions</td>\n",
       "      <td>Pune, Chennai, Bangalore/Bengaluru</td>\n",
       "    </tr>\n",
       "    <tr>\n",
       "      <th>5</th>\n",
       "      <td>Senior / Lead Data Scientist</td>\n",
       "      <td>CoreEdge Solutions</td>\n",
       "      <td>Hyderabad/Secunderabad, Pune, Bangalore/Bengaluru</td>\n",
       "    </tr>\n",
       "    <tr>\n",
       "      <th>6</th>\n",
       "      <td>Forecasting Analyst/ Data Scientist (US Client)</td>\n",
       "      <td>Concentrix Daksh Services</td>\n",
       "      <td>Gurgaon/Gurugram, Bangalore/Bengaluru</td>\n",
       "    </tr>\n",
       "    <tr>\n",
       "      <th>7</th>\n",
       "      <td>Data Scientist, Agribusiness Intelligence</td>\n",
       "      <td>IHS Markit</td>\n",
       "      <td>Bangalore/Bengaluru</td>\n",
       "    </tr>\n",
       "    <tr>\n",
       "      <th>8</th>\n",
       "      <td>Data Scientist</td>\n",
       "      <td>Kwalee India Pvt Ltd.</td>\n",
       "      <td>Bangalore/Bengaluru</td>\n",
       "    </tr>\n",
       "    <tr>\n",
       "      <th>9</th>\n",
       "      <td>Data Scientist</td>\n",
       "      <td>Binary Fountain Solutions India Pvt. Ltd</td>\n",
       "      <td>Bangalore/Bengaluru, Trivandrum/Thiruvananthap...</td>\n",
       "    </tr>\n",
       "  </tbody>\n",
       "</table>\n",
       "</div>"
      ],
      "text/plain": [
       "                                           Job-title  \\\n",
       "0                              Senior Data Scientist   \n",
       "1                                     Data Scientist   \n",
       "2                                Lead Data Scientist   \n",
       "3                                Lead Data Scientist   \n",
       "4  Senior Data Scientist / Tech Lead - SQL / Pyth...   \n",
       "5                       Senior / Lead Data Scientist   \n",
       "6    Forecasting Analyst/ Data Scientist (US Client)   \n",
       "7          Data Scientist, Agribusiness Intelligence   \n",
       "8                                     Data Scientist   \n",
       "9                                     Data Scientist   \n",
       "\n",
       "                               Company-name  \\\n",
       "0                     Kwalee India Pvt Ltd.   \n",
       "1                                      Visa   \n",
       "2                             Team4Progress   \n",
       "3      TransOrg Solutions Services (P) Ltd.   \n",
       "4                         Exploro Solutions   \n",
       "5                        CoreEdge Solutions   \n",
       "6                 Concentrix Daksh Services   \n",
       "7                                IHS Markit   \n",
       "8                     Kwalee India Pvt Ltd.   \n",
       "9  Binary Fountain Solutions India Pvt. Ltd   \n",
       "\n",
       "                                        Job-location  \n",
       "0                                Bangalore/Bengaluru  \n",
       "1                                Bangalore/Bengaluru  \n",
       "2                  Mumbai, Pune, Bangalore/Bengaluru  \n",
       "3  Bangalore/Bengaluru, Delhi / NCR, Mumbai (All ...  \n",
       "4                 Pune, Chennai, Bangalore/Bengaluru  \n",
       "5  Hyderabad/Secunderabad, Pune, Bangalore/Bengaluru  \n",
       "6              Gurgaon/Gurugram, Bangalore/Bengaluru  \n",
       "7                                Bangalore/Bengaluru  \n",
       "8                                Bangalore/Bengaluru  \n",
       "9  Bangalore/Bengaluru, Trivandrum/Thiruvananthap...  "
      ]
     },
     "execution_count": 59,
     "metadata": {},
     "output_type": "execute_result"
    }
   ],
   "source": [
    "JOB"
   ]
  },
  {
   "cell_type": "markdown",
   "id": "532c0546",
   "metadata": {},
   "source": [
    "# 3."
   ]
  },
  {
   "cell_type": "code",
   "execution_count": 60,
   "id": "2b7da2d3",
   "metadata": {},
   "outputs": [
    {
     "name": "stderr",
     "output_type": "stream",
     "text": [
      "<ipython-input-60-3316efb47fbe>:2: DeprecationWarning: executable_path has been deprecated, please pass in a Service object\n",
      "  driver=webdriver.Chrome(r\"C:\\Users\\user\\Downloads\\chromedriver_win32\\chromedriver.exe\")\n"
     ]
    }
   ],
   "source": [
    "#Connecting to web driver\n",
    "driver=webdriver.Chrome(r\"C:\\Users\\user\\Downloads\\chromedriver_win32\\chromedriver.exe\")"
   ]
  },
  {
   "cell_type": "code",
   "execution_count": 61,
   "id": "8de369e4",
   "metadata": {},
   "outputs": [],
   "source": [
    "#1.Getting the web page\n",
    "driver.get(\"https://www.naukri.com/\")"
   ]
  },
  {
   "cell_type": "code",
   "execution_count": 62,
   "id": "83ddc4dd",
   "metadata": {},
   "outputs": [
    {
     "name": "stderr",
     "output_type": "stream",
     "text": [
      "<ipython-input-62-488f9c781c88>:2: DeprecationWarning: find_element_by_* commands are deprecated. Please use find_element() instead\n",
      "  search=driver.find_element_by_id(\"qsb-keyword-sugg\")\n"
     ]
    }
   ],
   "source": [
    "#2.Entering the data to be search\n",
    "search=driver.find_element_by_id(\"qsb-keyword-sugg\")\n",
    "search.send_keys(\"Data Scientist\")"
   ]
  },
  {
   "cell_type": "code",
   "execution_count": 63,
   "id": "4370ad7d",
   "metadata": {},
   "outputs": [
    {
     "name": "stderr",
     "output_type": "stream",
     "text": [
      "<ipython-input-63-81acb4ba7ca2>:2: DeprecationWarning: find_element_by_* commands are deprecated. Please use find_element() instead\n",
      "  Sbtn=driver.find_element_by_xpath(\"//div[@class='search-btn']/button\")\n"
     ]
    }
   ],
   "source": [
    "#3.Entering the search button\n",
    "Sbtn=driver.find_element_by_xpath(\"//div[@class='search-btn']/button\")\n",
    "Sbtn.click()"
   ]
  },
  {
   "cell_type": "code",
   "execution_count": 64,
   "id": "ce66ee55",
   "metadata": {},
   "outputs": [
    {
     "name": "stderr",
     "output_type": "stream",
     "text": [
      "<ipython-input-64-e325887d8670>:2: DeprecationWarning: find_element_by_* commands are deprecated. Please use find_element() instead\n",
      "  Lbtn=driver.find_element_by_xpath(\"//span[@title='Delhi / NCR']\")\n"
     ]
    }
   ],
   "source": [
    "#4.Applying location filter\n",
    "Lbtn=driver.find_element_by_xpath(\"//span[@title='Delhi / NCR']\")\n",
    "Lbtn.click()"
   ]
  },
  {
   "cell_type": "code",
   "execution_count": 65,
   "id": "f986b972",
   "metadata": {},
   "outputs": [
    {
     "name": "stderr",
     "output_type": "stream",
     "text": [
      "<ipython-input-65-9769430a1141>:2: DeprecationWarning: find_element_by_* commands are deprecated. Please use find_element() instead\n",
      "  Sbtn=driver.find_element_by_xpath(\"//span[@title='3-6 Lakhs']\")\n"
     ]
    }
   ],
   "source": [
    "#Applying the salary filter\n",
    "Sbtn=driver.find_element_by_xpath(\"//span[@title='3-6 Lakhs']\")\n",
    "Sbtn.click()"
   ]
  },
  {
   "cell_type": "code",
   "execution_count": 66,
   "id": "71ec676d",
   "metadata": {},
   "outputs": [],
   "source": [
    "#5 Scraping data/ creating empty lists to store data\n",
    "job_t=[]\n",
    "job_l=[]\n",
    "comp=[]\n",
    "exp_r=[]"
   ]
  },
  {
   "cell_type": "code",
   "execution_count": 67,
   "id": "0cbc1a86",
   "metadata": {},
   "outputs": [
    {
     "name": "stderr",
     "output_type": "stream",
     "text": [
      "<ipython-input-67-3a8bb21a52a3>:2: DeprecationWarning: find_elements_by_* commands are deprecated. Please use find_elements() instead\n",
      "  jtag=driver.find_elements_by_xpath(\"//a[@class='title fw500 ellipsis']\")\n"
     ]
    },
    {
     "data": {
      "text/plain": [
       "[<selenium.webdriver.remote.webelement.WebElement (session=\"d3420ccd2cd499da6a26b733d9b7f318\", element=\"567f6a6a-45c1-42b3-991d-d47d3f09bcbd\")>,\n",
       " <selenium.webdriver.remote.webelement.WebElement (session=\"d3420ccd2cd499da6a26b733d9b7f318\", element=\"a5d81e8e-6808-4b90-b365-7e4910d2ad43\")>,\n",
       " <selenium.webdriver.remote.webelement.WebElement (session=\"d3420ccd2cd499da6a26b733d9b7f318\", element=\"8e694519-59db-4e8e-b8ae-ce439c17f6cd\")>,\n",
       " <selenium.webdriver.remote.webelement.WebElement (session=\"d3420ccd2cd499da6a26b733d9b7f318\", element=\"c3ea75d7-981f-46ab-9eeb-ebafeef95214\")>]"
      ]
     },
     "execution_count": 67,
     "metadata": {},
     "output_type": "execute_result"
    }
   ],
   "source": [
    "#Extracting the job title tags\n",
    "jtag=driver.find_elements_by_xpath(\"//a[@class='title fw500 ellipsis']\")\n",
    "jtag[0:4]"
   ]
  },
  {
   "cell_type": "code",
   "execution_count": 68,
   "id": "bd40f9be",
   "metadata": {},
   "outputs": [
    {
     "data": {
      "text/plain": [
       "['Data Scientist',\n",
       " 'Data Scientist',\n",
       " 'Data Scientist III-2',\n",
       " 'Job Opportunity || Data Scientist || HCL Technologies',\n",
       " 'Data Scientist',\n",
       " 'Data Scientist',\n",
       " 'Urgent Hiring || Data Scientist || Delhi',\n",
       " 'Data Scientist',\n",
       " 'Data Scientist Internship',\n",
       " 'Data Scientist']"
      ]
     },
     "execution_count": 68,
     "metadata": {},
     "output_type": "execute_result"
    }
   ],
   "source": [
    "#Extracting the text from tags\n",
    "for i in jtag:\n",
    "    Jtag=i.text\n",
    "    job_t.append(Jtag)\n",
    "job1=job_t[0:10]\n",
    "job1"
   ]
  },
  {
   "cell_type": "code",
   "execution_count": 69,
   "id": "d74e269d",
   "metadata": {},
   "outputs": [
    {
     "name": "stderr",
     "output_type": "stream",
     "text": [
      "<ipython-input-69-19a9142a90e4>:2: DeprecationWarning: find_elements_by_* commands are deprecated. Please use find_elements() instead\n",
      "  jltag=driver.find_elements_by_xpath(\"//li[@class='fleft grey-text br2 placeHolderLi location']/span[1]\")\n"
     ]
    },
    {
     "data": {
      "text/plain": [
       "[<selenium.webdriver.remote.webelement.WebElement (session=\"d3420ccd2cd499da6a26b733d9b7f318\", element=\"20ab58d7-e465-451a-9fc6-4c576bbb299b\")>,\n",
       " <selenium.webdriver.remote.webelement.WebElement (session=\"d3420ccd2cd499da6a26b733d9b7f318\", element=\"83758c2b-6372-4805-839b-8adeec1a6a2c\")>,\n",
       " <selenium.webdriver.remote.webelement.WebElement (session=\"d3420ccd2cd499da6a26b733d9b7f318\", element=\"8a0421c4-a6ab-4ab6-b168-bb7c2092451b\")>,\n",
       " <selenium.webdriver.remote.webelement.WebElement (session=\"d3420ccd2cd499da6a26b733d9b7f318\", element=\"da9ee666-53ef-4598-92cb-cc7cf808d19e\")>]"
      ]
     },
     "execution_count": 69,
     "metadata": {},
     "output_type": "execute_result"
    }
   ],
   "source": [
    "#Extracting the job location tags\n",
    "jltag=driver.find_elements_by_xpath(\"//li[@class='fleft grey-text br2 placeHolderLi location']/span[1]\")\n",
    "jltag[0:4]"
   ]
  },
  {
   "cell_type": "code",
   "execution_count": 70,
   "id": "fe170238",
   "metadata": {},
   "outputs": [
    {
     "data": {
      "text/plain": [
       "['Kochi/Cochin, Kolkata, Hyderabad/Secunderabad, Pune, Ahmedabad, Chennai, Bangalore/Bengaluru, Delhi / NCR, Mumbai (All Areas)',\n",
       " 'Pune, Bangalore/Bengaluru, Delhi / NCR',\n",
       " 'Gurgaon/Gurugram',\n",
       " 'Delhi / NCR',\n",
       " 'Noida(Sector-126 Noida)',\n",
       " 'Noida(Sector-126 Noida)',\n",
       " 'Delhi / NCR',\n",
       " 'Noida',\n",
       " 'New Delhi',\n",
       " 'Noida, Gurgaon/Gurugram']"
      ]
     },
     "execution_count": 70,
     "metadata": {},
     "output_type": "execute_result"
    }
   ],
   "source": [
    "#Extracting the text from tags\n",
    "for i in jltag:\n",
    "    JLtag=i.text\n",
    "    job_l.append(JLtag)\n",
    "jobl=job_l[0:10]\n",
    "jobl"
   ]
  },
  {
   "cell_type": "code",
   "execution_count": 71,
   "id": "13c72112",
   "metadata": {},
   "outputs": [
    {
     "name": "stderr",
     "output_type": "stream",
     "text": [
      "<ipython-input-71-6cc9c15eb203>:2: DeprecationWarning: find_elements_by_* commands are deprecated. Please use find_elements() instead\n",
      "  ctag=driver.find_elements_by_xpath(\"//a[@class='subTitle ellipsis fleft']\")\n"
     ]
    },
    {
     "data": {
      "text/plain": [
       "[<selenium.webdriver.remote.webelement.WebElement (session=\"d3420ccd2cd499da6a26b733d9b7f318\", element=\"1dd468f1-0a06-4f6c-b198-62cf43ee1ade\")>,\n",
       " <selenium.webdriver.remote.webelement.WebElement (session=\"d3420ccd2cd499da6a26b733d9b7f318\", element=\"4402e1d9-57cc-473f-ae52-705bbd79a337\")>,\n",
       " <selenium.webdriver.remote.webelement.WebElement (session=\"d3420ccd2cd499da6a26b733d9b7f318\", element=\"7d22ba0b-70bd-4131-b783-240d7d689750\")>,\n",
       " <selenium.webdriver.remote.webelement.WebElement (session=\"d3420ccd2cd499da6a26b733d9b7f318\", element=\"8646169a-ba72-412e-a141-9d4151ce1584\")>]"
      ]
     },
     "execution_count": 71,
     "metadata": {},
     "output_type": "execute_result"
    }
   ],
   "source": [
    "#Extracting the company name tags\n",
    "ctag=driver.find_elements_by_xpath(\"//a[@class='subTitle ellipsis fleft']\")\n",
    "ctag[0:4]"
   ]
  },
  {
   "cell_type": "code",
   "execution_count": 72,
   "id": "fd009564",
   "metadata": {},
   "outputs": [
    {
     "data": {
      "text/plain": [
       "['Think i',\n",
       " 'ThinkBumblebee Analytics Pvt. Ltd.',\n",
       " 'Concentrix Daksh Services',\n",
       " 'HCL Technologies',\n",
       " 'MoMagic Technologies Pvt. Ltd.',\n",
       " 'MoMagic Technologies Pvt. Ltd.',\n",
       " 'Shriram Automall India Limited',\n",
       " 'SVK Global Solutions Private Limited',\n",
       " 'iHackers Inc',\n",
       " 'Optum Global Solutions (India) Private Limited']"
      ]
     },
     "execution_count": 72,
     "metadata": {},
     "output_type": "execute_result"
    }
   ],
   "source": [
    "#Extracting the text from company name tags\n",
    "for i in ctag:\n",
    "    Ctag=i.text\n",
    "    comp.append(Ctag)\n",
    "jobc=comp[0:10]\n",
    "jobc"
   ]
  },
  {
   "cell_type": "code",
   "execution_count": 73,
   "id": "877ee148",
   "metadata": {},
   "outputs": [
    {
     "name": "stderr",
     "output_type": "stream",
     "text": [
      "<ipython-input-73-776312ba49b8>:2: DeprecationWarning: find_elements_by_* commands are deprecated. Please use find_elements() instead\n",
      "  etag=driver.find_elements_by_xpath(\"//li[@class='fleft grey-text br2 placeHolderLi experience']/span[1]\")\n"
     ]
    },
    {
     "data": {
      "text/plain": [
       "[<selenium.webdriver.remote.webelement.WebElement (session=\"d3420ccd2cd499da6a26b733d9b7f318\", element=\"77f4495c-ff31-46c0-98e0-83638cb0c42d\")>,\n",
       " <selenium.webdriver.remote.webelement.WebElement (session=\"d3420ccd2cd499da6a26b733d9b7f318\", element=\"00fa5820-a315-48bc-beac-381514fd1b28\")>,\n",
       " <selenium.webdriver.remote.webelement.WebElement (session=\"d3420ccd2cd499da6a26b733d9b7f318\", element=\"dd7e4296-c1d0-4225-8377-6c920ae191b1\")>,\n",
       " <selenium.webdriver.remote.webelement.WebElement (session=\"d3420ccd2cd499da6a26b733d9b7f318\", element=\"766d2a07-2ebd-403c-baba-38eaadf7ce6d\")>]"
      ]
     },
     "execution_count": 73,
     "metadata": {},
     "output_type": "execute_result"
    }
   ],
   "source": [
    "#Extracting the experience tags\n",
    "etag=driver.find_elements_by_xpath(\"//li[@class='fleft grey-text br2 placeHolderLi experience']/span[1]\")\n",
    "etag[0:4]"
   ]
  },
  {
   "cell_type": "code",
   "execution_count": 74,
   "id": "1bde2041",
   "metadata": {},
   "outputs": [
    {
     "data": {
      "text/plain": [
       "['0-2 Yrs',\n",
       " '2-6 Yrs',\n",
       " '3-8 Yrs',\n",
       " '4-7 Yrs',\n",
       " '4-6 Yrs',\n",
       " '4-6 Yrs',\n",
       " '2-7 Yrs',\n",
       " '6-10 Yrs',\n",
       " '0-1 Yrs',\n",
       " '2-6 Yrs']"
      ]
     },
     "execution_count": 74,
     "metadata": {},
     "output_type": "execute_result"
    }
   ],
   "source": [
    "#Extracting the text from tags\n",
    "for i in etag:\n",
    "    Etag=i.text\n",
    "    exp_r.append(Etag)\n",
    "jobe=exp_r[0:10]\n",
    "jobe"
   ]
  },
  {
   "cell_type": "code",
   "execution_count": 75,
   "id": "c49e16d1",
   "metadata": {},
   "outputs": [
    {
     "name": "stdout",
     "output_type": "stream",
     "text": [
      "10 10 10 10\n"
     ]
    }
   ],
   "source": [
    "print(len(job1),len(jobl),len(jobc),len(jobe))"
   ]
  },
  {
   "cell_type": "code",
   "execution_count": 76,
   "id": "e1ab309b",
   "metadata": {},
   "outputs": [],
   "source": [
    "#Making dataframe\n",
    "Jobs=pd.DataFrame({})\n",
    "Jobs['Job-title']=job1\n",
    "Jobs['Company-name']=jobc\n",
    "Jobs['Job-location']=jobl\n",
    "Jobs['Experience-required']=jobe"
   ]
  },
  {
   "cell_type": "code",
   "execution_count": 77,
   "id": "ebff55f9",
   "metadata": {},
   "outputs": [
    {
     "data": {
      "text/html": [
       "<div>\n",
       "<style scoped>\n",
       "    .dataframe tbody tr th:only-of-type {\n",
       "        vertical-align: middle;\n",
       "    }\n",
       "\n",
       "    .dataframe tbody tr th {\n",
       "        vertical-align: top;\n",
       "    }\n",
       "\n",
       "    .dataframe thead th {\n",
       "        text-align: right;\n",
       "    }\n",
       "</style>\n",
       "<table border=\"1\" class=\"dataframe\">\n",
       "  <thead>\n",
       "    <tr style=\"text-align: right;\">\n",
       "      <th></th>\n",
       "      <th>Job-title</th>\n",
       "      <th>Company-name</th>\n",
       "      <th>Job-location</th>\n",
       "      <th>Experience-required</th>\n",
       "    </tr>\n",
       "  </thead>\n",
       "  <tbody>\n",
       "    <tr>\n",
       "      <th>0</th>\n",
       "      <td>Data Scientist</td>\n",
       "      <td>Think i</td>\n",
       "      <td>Kochi/Cochin, Kolkata, Hyderabad/Secunderabad,...</td>\n",
       "      <td>0-2 Yrs</td>\n",
       "    </tr>\n",
       "    <tr>\n",
       "      <th>1</th>\n",
       "      <td>Data Scientist</td>\n",
       "      <td>ThinkBumblebee Analytics Pvt. Ltd.</td>\n",
       "      <td>Pune, Bangalore/Bengaluru, Delhi / NCR</td>\n",
       "      <td>2-6 Yrs</td>\n",
       "    </tr>\n",
       "    <tr>\n",
       "      <th>2</th>\n",
       "      <td>Data Scientist III-2</td>\n",
       "      <td>Concentrix Daksh Services</td>\n",
       "      <td>Gurgaon/Gurugram</td>\n",
       "      <td>3-8 Yrs</td>\n",
       "    </tr>\n",
       "    <tr>\n",
       "      <th>3</th>\n",
       "      <td>Job Opportunity || Data Scientist || HCL Techn...</td>\n",
       "      <td>HCL Technologies</td>\n",
       "      <td>Delhi / NCR</td>\n",
       "      <td>4-7 Yrs</td>\n",
       "    </tr>\n",
       "    <tr>\n",
       "      <th>4</th>\n",
       "      <td>Data Scientist</td>\n",
       "      <td>MoMagic Technologies Pvt. Ltd.</td>\n",
       "      <td>Noida(Sector-126 Noida)</td>\n",
       "      <td>4-6 Yrs</td>\n",
       "    </tr>\n",
       "    <tr>\n",
       "      <th>5</th>\n",
       "      <td>Data Scientist</td>\n",
       "      <td>MoMagic Technologies Pvt. Ltd.</td>\n",
       "      <td>Noida(Sector-126 Noida)</td>\n",
       "      <td>4-6 Yrs</td>\n",
       "    </tr>\n",
       "    <tr>\n",
       "      <th>6</th>\n",
       "      <td>Urgent Hiring || Data Scientist || Delhi</td>\n",
       "      <td>Shriram Automall India Limited</td>\n",
       "      <td>Delhi / NCR</td>\n",
       "      <td>2-7 Yrs</td>\n",
       "    </tr>\n",
       "    <tr>\n",
       "      <th>7</th>\n",
       "      <td>Data Scientist</td>\n",
       "      <td>SVK Global Solutions Private Limited</td>\n",
       "      <td>Noida</td>\n",
       "      <td>6-10 Yrs</td>\n",
       "    </tr>\n",
       "    <tr>\n",
       "      <th>8</th>\n",
       "      <td>Data Scientist Internship</td>\n",
       "      <td>iHackers Inc</td>\n",
       "      <td>New Delhi</td>\n",
       "      <td>0-1 Yrs</td>\n",
       "    </tr>\n",
       "    <tr>\n",
       "      <th>9</th>\n",
       "      <td>Data Scientist</td>\n",
       "      <td>Optum Global Solutions (India) Private Limited</td>\n",
       "      <td>Noida, Gurgaon/Gurugram</td>\n",
       "      <td>2-6 Yrs</td>\n",
       "    </tr>\n",
       "  </tbody>\n",
       "</table>\n",
       "</div>"
      ],
      "text/plain": [
       "                                           Job-title  \\\n",
       "0                                     Data Scientist   \n",
       "1                                     Data Scientist   \n",
       "2                               Data Scientist III-2   \n",
       "3  Job Opportunity || Data Scientist || HCL Techn...   \n",
       "4                                     Data Scientist   \n",
       "5                                     Data Scientist   \n",
       "6           Urgent Hiring || Data Scientist || Delhi   \n",
       "7                                     Data Scientist   \n",
       "8                          Data Scientist Internship   \n",
       "9                                     Data Scientist   \n",
       "\n",
       "                                     Company-name  \\\n",
       "0                                         Think i   \n",
       "1              ThinkBumblebee Analytics Pvt. Ltd.   \n",
       "2                       Concentrix Daksh Services   \n",
       "3                                HCL Technologies   \n",
       "4                  MoMagic Technologies Pvt. Ltd.   \n",
       "5                  MoMagic Technologies Pvt. Ltd.   \n",
       "6                  Shriram Automall India Limited   \n",
       "7            SVK Global Solutions Private Limited   \n",
       "8                                    iHackers Inc   \n",
       "9  Optum Global Solutions (India) Private Limited   \n",
       "\n",
       "                                        Job-location Experience-required  \n",
       "0  Kochi/Cochin, Kolkata, Hyderabad/Secunderabad,...             0-2 Yrs  \n",
       "1             Pune, Bangalore/Bengaluru, Delhi / NCR             2-6 Yrs  \n",
       "2                                   Gurgaon/Gurugram             3-8 Yrs  \n",
       "3                                        Delhi / NCR             4-7 Yrs  \n",
       "4                            Noida(Sector-126 Noida)             4-6 Yrs  \n",
       "5                            Noida(Sector-126 Noida)             4-6 Yrs  \n",
       "6                                        Delhi / NCR             2-7 Yrs  \n",
       "7                                              Noida            6-10 Yrs  \n",
       "8                                          New Delhi             0-1 Yrs  \n",
       "9                            Noida, Gurgaon/Gurugram             2-6 Yrs  "
      ]
     },
     "execution_count": 77,
     "metadata": {},
     "output_type": "execute_result"
    }
   ],
   "source": [
    "Jobs"
   ]
  },
  {
   "cell_type": "markdown",
   "id": "2481e86f",
   "metadata": {},
   "source": [
    "# 4."
   ]
  },
  {
   "cell_type": "code",
   "execution_count": 55,
   "id": "cc3b3179",
   "metadata": {},
   "outputs": [
    {
     "name": "stderr",
     "output_type": "stream",
     "text": [
      "<ipython-input-55-3316efb47fbe>:2: DeprecationWarning: executable_path has been deprecated, please pass in a Service object\n",
      "  driver=webdriver.Chrome(r\"C:\\Users\\user\\Downloads\\chromedriver_win32\\chromedriver.exe\")\n"
     ]
    }
   ],
   "source": [
    "#Connecting to web driver\n",
    "driver=webdriver.Chrome(r\"C:\\Users\\user\\Downloads\\chromedriver_win32\\chromedriver.exe\")"
   ]
  },
  {
   "cell_type": "code",
   "execution_count": 56,
   "id": "256f01a6",
   "metadata": {},
   "outputs": [],
   "source": [
    "#1.Getting the web page\n",
    "driver.get(\"https://www.flipkart.com/\")"
   ]
  },
  {
   "cell_type": "code",
   "execution_count": 57,
   "id": "a69b4e48",
   "metadata": {},
   "outputs": [
    {
     "name": "stderr",
     "output_type": "stream",
     "text": [
      "<ipython-input-57-1bc564929101>:1: DeprecationWarning: find_element_by_* commands are deprecated. Please use find_element() instead\n",
      "  cbtn=driver.find_element_by_xpath(\"//div[@class='_2QfC02']/button\")\n"
     ]
    }
   ],
   "source": [
    "cbtn=driver.find_element_by_xpath(\"//div[@class='_2QfC02']/button\")\n",
    "cbtn.click()"
   ]
  },
  {
   "cell_type": "code",
   "execution_count": 58,
   "id": "8f0f3a3d",
   "metadata": {},
   "outputs": [
    {
     "name": "stderr",
     "output_type": "stream",
     "text": [
      "<ipython-input-58-7e955beb49f8>:2: DeprecationWarning: find_element_by_* commands are deprecated. Please use find_element() instead\n",
      "  Search=driver.find_element_by_xpath(\"//input[@type='text']\")\n"
     ]
    }
   ],
   "source": [
    "#2. Entering the data to be searched\n",
    "Search=driver.find_element_by_xpath(\"//input[@type='text']\")\n",
    "Search.send_keys(\"sunglasses\")"
   ]
  },
  {
   "cell_type": "code",
   "execution_count": 59,
   "id": "d0a53e72",
   "metadata": {},
   "outputs": [
    {
     "name": "stderr",
     "output_type": "stream",
     "text": [
      "<ipython-input-59-6d6de691cbef>:2: DeprecationWarning: find_element_by_* commands are deprecated. Please use find_element() instead\n",
      "  btn=driver.find_element_by_xpath(\"//button[@class='L0Z3Pu']\")\n"
     ]
    }
   ],
   "source": [
    "#Clicking the search button\n",
    "btn=driver.find_element_by_xpath(\"//button[@class='L0Z3Pu']\")\n",
    "btn.click()"
   ]
  },
  {
   "cell_type": "code",
   "execution_count": 60,
   "id": "86057384",
   "metadata": {},
   "outputs": [],
   "source": [
    "#3. Creating empty list to store scraping data\n",
    "brand=[]\n",
    "product=[]\n",
    "price=[]\n",
    "discount=[]"
   ]
  },
  {
   "cell_type": "code",
   "execution_count": 61,
   "id": "e7aa02d5",
   "metadata": {},
   "outputs": [
    {
     "name": "stderr",
     "output_type": "stream",
     "text": [
      "<ipython-input-61-1180943891a1>:7: DeprecationWarning: find_elements_by_* commands are deprecated. Please use find_elements() instead\n",
      "  brands=driver.find_elements_by_class_name('_2WkVRV')\n",
      "<ipython-input-61-1180943891a1>:8: DeprecationWarning: find_elements_by_* commands are deprecated. Please use find_elements() instead\n",
      "  products=driver.find_elements_by_class_name('IRpwTa')\n",
      "<ipython-input-61-1180943891a1>:9: DeprecationWarning: find_elements_by_* commands are deprecated. Please use find_elements() instead\n",
      "  prices=driver.find_elements_by_class_name('_30jeq3')\n",
      "<ipython-input-61-1180943891a1>:10: DeprecationWarning: find_elements_by_* commands are deprecated. Please use find_elements() instead\n",
      "  discounts=driver.find_elements_by_class_name('_3Ay6Sb')\n",
      "<ipython-input-61-1180943891a1>:28: DeprecationWarning: find_elements_by_* commands are deprecated. Please use find_elements() instead\n",
      "  nxt_button=driver.find_elements_by_xpath(\"//a[@class='_1LKTO3']\")\n"
     ]
    }
   ],
   "source": [
    "start=0\n",
    "\n",
    "end=3\n",
    "\n",
    "for page in range(start,end):#for loop for scrapping 4 page\n",
    "\n",
    "    brands=driver.find_elements_by_class_name('_2WkVRV')\n",
    "    products=driver.find_elements_by_class_name('IRpwTa')\n",
    "    prices=driver.find_elements_by_class_name('_30jeq3')\n",
    "    discounts=driver.find_elements_by_class_name('_3Ay6Sb')\n",
    "\n",
    "    for i in brands:\n",
    "\n",
    "        brand.append(i.text)\n",
    "\n",
    "    for i in products:\n",
    "\n",
    "        product.append(i.text)\n",
    "\n",
    "    for i in prices:\n",
    "\n",
    "        price.append(i.text)\n",
    "\n",
    "    for i in discounts:\n",
    "\n",
    "        discount.append(i.text)\n",
    "\n",
    "        nxt_button=driver.find_elements_by_xpath(\"//a[@class='_1LKTO3']\")\n",
    "\n",
    "    try:\n",
    "\n",
    "        driver.get(nxt_button[1].get_attribute('href'))#getting the link from the list for next page\n",
    "\n",
    "    except:\n",
    "\n",
    "        driver.get(nxt_button[0].get_attribute('href'))"
   ]
  },
  {
   "cell_type": "code",
   "execution_count": 62,
   "id": "431be32c",
   "metadata": {},
   "outputs": [],
   "source": [
    "Brand=brand[0:100]\n",
    "Product=product[0:100]\n",
    "Price=price[0:100]\n",
    "Discount=discount[0:100]"
   ]
  },
  {
   "cell_type": "code",
   "execution_count": 63,
   "id": "ff46ff4c",
   "metadata": {},
   "outputs": [
    {
     "name": "stdout",
     "output_type": "stream",
     "text": [
      "100 100 100 100\n"
     ]
    }
   ],
   "source": [
    "print(len(Brand),len(Product),len(Price),len(Discount))"
   ]
  },
  {
   "cell_type": "code",
   "execution_count": 77,
   "id": "12950e5c",
   "metadata": {},
   "outputs": [],
   "source": [
    "sunglass=pd.DataFrame({'Brand':Brand,'Product Description':Product,'Price':Price,'Discount':Discount})"
   ]
  },
  {
   "cell_type": "code",
   "execution_count": 78,
   "id": "6bef1591",
   "metadata": {},
   "outputs": [
    {
     "data": {
      "text/html": [
       "<div>\n",
       "<style scoped>\n",
       "    .dataframe tbody tr th:only-of-type {\n",
       "        vertical-align: middle;\n",
       "    }\n",
       "\n",
       "    .dataframe tbody tr th {\n",
       "        vertical-align: top;\n",
       "    }\n",
       "\n",
       "    .dataframe thead th {\n",
       "        text-align: right;\n",
       "    }\n",
       "</style>\n",
       "<table border=\"1\" class=\"dataframe\">\n",
       "  <thead>\n",
       "    <tr style=\"text-align: right;\">\n",
       "      <th></th>\n",
       "      <th>Brand</th>\n",
       "      <th>Product Description</th>\n",
       "      <th>Price</th>\n",
       "      <th>Discount</th>\n",
       "    </tr>\n",
       "  </thead>\n",
       "  <tbody>\n",
       "    <tr>\n",
       "      <th>0</th>\n",
       "      <td>VINCENT CHASE</td>\n",
       "      <td>UV Protection Aviator Sunglasses (53)</td>\n",
       "      <td>₹999</td>\n",
       "      <td>50% off</td>\n",
       "    </tr>\n",
       "    <tr>\n",
       "      <th>1</th>\n",
       "      <td>VINCENT CHASE</td>\n",
       "      <td>by Lenskart Polarized, UV Protection Wayfarer ...</td>\n",
       "      <td>₹999</td>\n",
       "      <td>50% off</td>\n",
       "    </tr>\n",
       "    <tr>\n",
       "      <th>2</th>\n",
       "      <td>Elligator</td>\n",
       "      <td>UV Protection Round Sunglasses (54)</td>\n",
       "      <td>₹264</td>\n",
       "      <td>89% off</td>\n",
       "    </tr>\n",
       "    <tr>\n",
       "      <th>3</th>\n",
       "      <td>Fastrack</td>\n",
       "      <td>UV Protection Rectangular Sunglasses (Free Size)</td>\n",
       "      <td>₹513</td>\n",
       "      <td>35% off</td>\n",
       "    </tr>\n",
       "    <tr>\n",
       "      <th>4</th>\n",
       "      <td>SRPM</td>\n",
       "      <td>UV Protection Wayfarer Sunglasses (56)</td>\n",
       "      <td>₹188</td>\n",
       "      <td>85% off</td>\n",
       "    </tr>\n",
       "    <tr>\n",
       "      <th>...</th>\n",
       "      <td>...</td>\n",
       "      <td>...</td>\n",
       "      <td>...</td>\n",
       "      <td>...</td>\n",
       "    </tr>\n",
       "    <tr>\n",
       "      <th>95</th>\n",
       "      <td>VINCENT CHASE</td>\n",
       "      <td>Polarized, UV Protection Wayfarer Sunglasses (57)</td>\n",
       "      <td>₹319</td>\n",
       "      <td>84% off</td>\n",
       "    </tr>\n",
       "    <tr>\n",
       "      <th>96</th>\n",
       "      <td>ROYAL SON</td>\n",
       "      <td>UV Protection Round Sunglasses (50)</td>\n",
       "      <td>₹554</td>\n",
       "      <td>72% off</td>\n",
       "    </tr>\n",
       "    <tr>\n",
       "      <th>97</th>\n",
       "      <td>Rich Club</td>\n",
       "      <td>UV Protection, Others Round Sunglasses (48)</td>\n",
       "      <td>₹999</td>\n",
       "      <td>50% off</td>\n",
       "    </tr>\n",
       "    <tr>\n",
       "      <th>98</th>\n",
       "      <td>ROYAL SON</td>\n",
       "      <td>UV Protection Round Sunglasses (50)</td>\n",
       "      <td>₹259</td>\n",
       "      <td>74% off</td>\n",
       "    </tr>\n",
       "    <tr>\n",
       "      <th>99</th>\n",
       "      <td>elegante</td>\n",
       "      <td>UV Protection Oval Sunglasses (Free Size)</td>\n",
       "      <td>₹250</td>\n",
       "      <td>84% off</td>\n",
       "    </tr>\n",
       "  </tbody>\n",
       "</table>\n",
       "<p>100 rows × 4 columns</p>\n",
       "</div>"
      ],
      "text/plain": [
       "            Brand                                Product Description Price  \\\n",
       "0   VINCENT CHASE              UV Protection Aviator Sunglasses (53)  ₹999   \n",
       "1   VINCENT CHASE  by Lenskart Polarized, UV Protection Wayfarer ...  ₹999   \n",
       "2       Elligator                UV Protection Round Sunglasses (54)  ₹264   \n",
       "3        Fastrack   UV Protection Rectangular Sunglasses (Free Size)  ₹513   \n",
       "4            SRPM             UV Protection Wayfarer Sunglasses (56)  ₹188   \n",
       "..            ...                                                ...   ...   \n",
       "95  VINCENT CHASE  Polarized, UV Protection Wayfarer Sunglasses (57)  ₹319   \n",
       "96      ROYAL SON                UV Protection Round Sunglasses (50)  ₹554   \n",
       "97      Rich Club        UV Protection, Others Round Sunglasses (48)  ₹999   \n",
       "98      ROYAL SON                UV Protection Round Sunglasses (50)  ₹259   \n",
       "99       elegante          UV Protection Oval Sunglasses (Free Size)  ₹250   \n",
       "\n",
       "   Discount  \n",
       "0   50% off  \n",
       "1   50% off  \n",
       "2   89% off  \n",
       "3   35% off  \n",
       "4   85% off  \n",
       "..      ...  \n",
       "95  84% off  \n",
       "96  72% off  \n",
       "97  50% off  \n",
       "98  74% off  \n",
       "99  84% off  \n",
       "\n",
       "[100 rows x 4 columns]"
      ]
     },
     "execution_count": 78,
     "metadata": {},
     "output_type": "execute_result"
    }
   ],
   "source": [
    "sunglass"
   ]
  },
  {
   "cell_type": "markdown",
   "id": "435c9c4a",
   "metadata": {},
   "source": [
    "# 5."
   ]
  },
  {
   "cell_type": "code",
   "execution_count": 66,
   "id": "89226c36",
   "metadata": {},
   "outputs": [
    {
     "name": "stderr",
     "output_type": "stream",
     "text": [
      "<ipython-input-66-3316efb47fbe>:2: DeprecationWarning: executable_path has been deprecated, please pass in a Service object\n",
      "  driver=webdriver.Chrome(r\"C:\\Users\\user\\Downloads\\chromedriver_win32\\chromedriver.exe\")\n"
     ]
    }
   ],
   "source": [
    "#Connecting to web driver\n",
    "driver=webdriver.Chrome(r\"C:\\Users\\user\\Downloads\\chromedriver_win32\\chromedriver.exe\")"
   ]
  },
  {
   "cell_type": "code",
   "execution_count": 67,
   "id": "8ee5eff0",
   "metadata": {},
   "outputs": [],
   "source": [
    "#Getting the web page\n",
    "url=\"https://www.flipkart.com/apple-iphone-11-black-64-gb-includes-earpods-power-adapter/p/itm0f37c2240b217?pid=MOBFKCTSVZAXUHGR&lid=LSTMOBFKC\"\n",
    "driver.get(url)"
   ]
  },
  {
   "cell_type": "code",
   "execution_count": 68,
   "id": "c05324b4",
   "metadata": {},
   "outputs": [
    {
     "name": "stderr",
     "output_type": "stream",
     "text": [
      "<ipython-input-68-001766fbb266>:1: DeprecationWarning: find_element_by_* commands are deprecated. Please use find_element() instead\n",
      "  R=driver.find_element_by_xpath(\"//div[@class='_3UAT2v _16PBlm']\")\n"
     ]
    }
   ],
   "source": [
    "R=driver.find_element_by_xpath(\"//div[@class='_3UAT2v _16PBlm']\")\n",
    "R.click()"
   ]
  },
  {
   "cell_type": "code",
   "execution_count": 69,
   "id": "623410cd",
   "metadata": {},
   "outputs": [],
   "source": [
    "#Creating empty list to store data\n",
    "rating=[]\n",
    "review_summary=[]\n",
    "full_review=[]"
   ]
  },
  {
   "cell_type": "code",
   "execution_count": 70,
   "id": "de9cd4cc",
   "metadata": {},
   "outputs": [
    {
     "name": "stderr",
     "output_type": "stream",
     "text": [
      "<ipython-input-70-92dd2c5f4a7d>:2: DeprecationWarning: find_elements_by_* commands are deprecated. Please use find_elements() instead\n",
      "  Rate=driver.find_elements_by_xpath(\"//div[@class='_3LWZlK _1BLPMq'or @class='_3LWZlK _1rdVr6 _1BLPMq']\")\n",
      "<ipython-input-70-92dd2c5f4a7d>:3: DeprecationWarning: find_elements_by_* commands are deprecated. Please use find_elements() instead\n",
      "  review=driver.find_elements_by_class_name('_2-N8zT')\n",
      "<ipython-input-70-92dd2c5f4a7d>:4: DeprecationWarning: find_elements_by_* commands are deprecated. Please use find_elements() instead\n",
      "  fullreview=driver.find_elements_by_class_name('t-ZTKy')\n",
      "<ipython-input-70-92dd2c5f4a7d>:15: DeprecationWarning: find_elements_by_* commands are deprecated. Please use find_elements() instead\n",
      "  button=driver.find_elements_by_xpath(\"//a[@class='_1LKTO3']\")\n"
     ]
    }
   ],
   "source": [
    "#Using for loop scraping the data in range of 0 to 10 pages\n",
    "for page in range(0,10):\n",
    "    Rate=driver.find_elements_by_xpath(\"//div[@class='_3LWZlK _1BLPMq'or @class='_3LWZlK _1rdVr6 _1BLPMq']\")\n",
    "    review=driver.find_elements_by_class_name('_2-N8zT')\n",
    "    fullreview=driver.find_elements_by_class_name('t-ZTKy')\n",
    "    \n",
    "    for i in Rate:\n",
    "        rating.append(i.text)\n",
    "        \n",
    "    for i in review:\n",
    "        review_summary.append(i.text)\n",
    "        \n",
    "    for i in fullreview:\n",
    "        full_review.append(i.text)\n",
    "        \n",
    "    button=driver.find_elements_by_xpath(\"//a[@class='_1LKTO3']\")\n",
    "    \n",
    "    try:\n",
    "\n",
    "        driver.get(button[1].get_attribute('href'))\n",
    "\n",
    "    except:\n",
    "\n",
    "        driver.get(button[0].get_attribute('href'))\n",
    "    \n",
    "    "
   ]
  },
  {
   "cell_type": "code",
   "execution_count": 81,
   "id": "03cfa5b0",
   "metadata": {},
   "outputs": [
    {
     "name": "stdout",
     "output_type": "stream",
     "text": [
      "100 100 100\n"
     ]
    }
   ],
   "source": [
    "print(len(rating),len(review_summary),len(full_review))"
   ]
  },
  {
   "cell_type": "code",
   "execution_count": 84,
   "id": "51302c37",
   "metadata": {},
   "outputs": [],
   "source": [
    "#Creating data frame\n",
    "Review=pd.DataFrame({'Rating':rating,'Review summary':review_summary,'Full review':full_review})"
   ]
  },
  {
   "cell_type": "code",
   "execution_count": 85,
   "id": "f83adccc",
   "metadata": {},
   "outputs": [
    {
     "data": {
      "text/html": [
       "<div>\n",
       "<style scoped>\n",
       "    .dataframe tbody tr th:only-of-type {\n",
       "        vertical-align: middle;\n",
       "    }\n",
       "\n",
       "    .dataframe tbody tr th {\n",
       "        vertical-align: top;\n",
       "    }\n",
       "\n",
       "    .dataframe thead th {\n",
       "        text-align: right;\n",
       "    }\n",
       "</style>\n",
       "<table border=\"1\" class=\"dataframe\">\n",
       "  <thead>\n",
       "    <tr style=\"text-align: right;\">\n",
       "      <th></th>\n",
       "      <th>Rating</th>\n",
       "      <th>Review summary</th>\n",
       "      <th>Full review</th>\n",
       "    </tr>\n",
       "  </thead>\n",
       "  <tbody>\n",
       "    <tr>\n",
       "      <th>0</th>\n",
       "      <td>5</td>\n",
       "      <td>Brilliant</td>\n",
       "      <td>The Best Phone for the Money\\n\\nThe iPhone 11 ...</td>\n",
       "    </tr>\n",
       "    <tr>\n",
       "      <th>1</th>\n",
       "      <td>5</td>\n",
       "      <td>Simply awesome</td>\n",
       "      <td>Really satisfied with the Product I received.....</td>\n",
       "    </tr>\n",
       "    <tr>\n",
       "      <th>2</th>\n",
       "      <td>5</td>\n",
       "      <td>Perfect product!</td>\n",
       "      <td>Amazing phone with great cameras and better ba...</td>\n",
       "    </tr>\n",
       "    <tr>\n",
       "      <th>3</th>\n",
       "      <td>5</td>\n",
       "      <td>Worth every penny</td>\n",
       "      <td>Previously I was using one plus 3t it was a gr...</td>\n",
       "    </tr>\n",
       "    <tr>\n",
       "      <th>4</th>\n",
       "      <td>5</td>\n",
       "      <td>Fabulous!</td>\n",
       "      <td>This is my first iOS phone. I am very happy wi...</td>\n",
       "    </tr>\n",
       "    <tr>\n",
       "      <th>...</th>\n",
       "      <td>...</td>\n",
       "      <td>...</td>\n",
       "      <td>...</td>\n",
       "    </tr>\n",
       "    <tr>\n",
       "      <th>95</th>\n",
       "      <td>5</td>\n",
       "      <td>Super!</td>\n",
       "      <td>This is my first ever iPhone.\\nAnd I truly don...</td>\n",
       "    </tr>\n",
       "    <tr>\n",
       "      <th>96</th>\n",
       "      <td>5</td>\n",
       "      <td>Just wow!</td>\n",
       "      <td>The ultimate performance\\nCamera is superb\\nTh...</td>\n",
       "    </tr>\n",
       "    <tr>\n",
       "      <th>97</th>\n",
       "      <td>5</td>\n",
       "      <td>Terrific purchase</td>\n",
       "      <td>I use a Note10+ and have been using both iOS a...</td>\n",
       "    </tr>\n",
       "    <tr>\n",
       "      <th>98</th>\n",
       "      <td>5</td>\n",
       "      <td>Awesome</td>\n",
       "      <td>The phone is completely good\\nAs far as camera...</td>\n",
       "    </tr>\n",
       "    <tr>\n",
       "      <th>99</th>\n",
       "      <td>3</td>\n",
       "      <td>Decent product</td>\n",
       "      <td>Everything u ll like it when u use this iPhone...</td>\n",
       "    </tr>\n",
       "  </tbody>\n",
       "</table>\n",
       "<p>100 rows × 3 columns</p>\n",
       "</div>"
      ],
      "text/plain": [
       "   Rating     Review summary  \\\n",
       "0       5          Brilliant   \n",
       "1       5     Simply awesome   \n",
       "2       5   Perfect product!   \n",
       "3       5  Worth every penny   \n",
       "4       5          Fabulous!   \n",
       "..    ...                ...   \n",
       "95      5             Super!   \n",
       "96      5          Just wow!   \n",
       "97      5  Terrific purchase   \n",
       "98      5            Awesome   \n",
       "99      3     Decent product   \n",
       "\n",
       "                                          Full review  \n",
       "0   The Best Phone for the Money\\n\\nThe iPhone 11 ...  \n",
       "1   Really satisfied with the Product I received.....  \n",
       "2   Amazing phone with great cameras and better ba...  \n",
       "3   Previously I was using one plus 3t it was a gr...  \n",
       "4   This is my first iOS phone. I am very happy wi...  \n",
       "..                                                ...  \n",
       "95  This is my first ever iPhone.\\nAnd I truly don...  \n",
       "96  The ultimate performance\\nCamera is superb\\nTh...  \n",
       "97  I use a Note10+ and have been using both iOS a...  \n",
       "98  The phone is completely good\\nAs far as camera...  \n",
       "99  Everything u ll like it when u use this iPhone...  \n",
       "\n",
       "[100 rows x 3 columns]"
      ]
     },
     "execution_count": 85,
     "metadata": {},
     "output_type": "execute_result"
    }
   ],
   "source": [
    "Review"
   ]
  },
  {
   "cell_type": "markdown",
   "id": "03766837",
   "metadata": {},
   "source": [
    "# 6."
   ]
  },
  {
   "cell_type": "code",
   "execution_count": 116,
   "id": "99accb44",
   "metadata": {},
   "outputs": [
    {
     "name": "stderr",
     "output_type": "stream",
     "text": [
      "<ipython-input-116-3316efb47fbe>:2: DeprecationWarning: executable_path has been deprecated, please pass in a Service object\n",
      "  driver=webdriver.Chrome(r\"C:\\Users\\user\\Downloads\\chromedriver_win32\\chromedriver.exe\")\n"
     ]
    }
   ],
   "source": [
    "#Connecting to web driver\n",
    "driver=webdriver.Chrome(r\"C:\\Users\\user\\Downloads\\chromedriver_win32\\chromedriver.exe\")"
   ]
  },
  {
   "cell_type": "code",
   "execution_count": 117,
   "id": "ceebbec9",
   "metadata": {},
   "outputs": [],
   "source": [
    "#Getting the web page\n",
    "driver.get(\"https://www.flipkart.com/\")"
   ]
  },
  {
   "cell_type": "code",
   "execution_count": 118,
   "id": "eba86e0e",
   "metadata": {},
   "outputs": [
    {
     "name": "stderr",
     "output_type": "stream",
     "text": [
      "<ipython-input-118-1bc564929101>:1: DeprecationWarning: find_element_by_* commands are deprecated. Please use find_element() instead\n",
      "  cbtn=driver.find_element_by_xpath(\"//div[@class='_2QfC02']/button\")\n"
     ]
    }
   ],
   "source": [
    "cbtn=driver.find_element_by_xpath(\"//div[@class='_2QfC02']/button\")\n",
    "cbtn.click()"
   ]
  },
  {
   "cell_type": "code",
   "execution_count": 119,
   "id": "b51e3acf",
   "metadata": {},
   "outputs": [
    {
     "name": "stderr",
     "output_type": "stream",
     "text": [
      "<ipython-input-119-d2862f49e9e6>:2: DeprecationWarning: find_element_by_* commands are deprecated. Please use find_element() instead\n",
      "  Search=driver.find_element_by_xpath(\"//input[@type='text']\")\n"
     ]
    }
   ],
   "source": [
    "# Entering the data to be searched\n",
    "Search=driver.find_element_by_xpath(\"//input[@type='text']\")\n",
    "Search.send_keys(\"sneakers\")"
   ]
  },
  {
   "cell_type": "code",
   "execution_count": 120,
   "id": "7a0ec9e2",
   "metadata": {},
   "outputs": [
    {
     "name": "stderr",
     "output_type": "stream",
     "text": [
      "<ipython-input-120-6d6de691cbef>:2: DeprecationWarning: find_element_by_* commands are deprecated. Please use find_element() instead\n",
      "  btn=driver.find_element_by_xpath(\"//button[@class='L0Z3Pu']\")\n"
     ]
    }
   ],
   "source": [
    "#Clicking the search button\n",
    "btn=driver.find_element_by_xpath(\"//button[@class='L0Z3Pu']\")\n",
    "btn.click()"
   ]
  },
  {
   "cell_type": "code",
   "execution_count": 121,
   "id": "afb5516e",
   "metadata": {},
   "outputs": [],
   "source": [
    "# Creating empty list to store scraping data\n",
    "brand_s=[]\n",
    "product_s=[]\n",
    "price_s=[]\n",
    "discount_s=[]"
   ]
  },
  {
   "cell_type": "code",
   "execution_count": 122,
   "id": "b628c47a",
   "metadata": {},
   "outputs": [
    {
     "name": "stderr",
     "output_type": "stream",
     "text": [
      "<ipython-input-122-35b043a108ba>:7: DeprecationWarning: find_elements_by_* commands are deprecated. Please use find_elements() instead\n",
      "  Brand_s=driver.find_elements_by_class_name('_2WkVRV')\n",
      "<ipython-input-122-35b043a108ba>:8: DeprecationWarning: find_elements_by_* commands are deprecated. Please use find_elements() instead\n",
      "  Product_s=driver.find_elements_by_class_name('IRpwTa')\n",
      "<ipython-input-122-35b043a108ba>:9: DeprecationWarning: find_elements_by_* commands are deprecated. Please use find_elements() instead\n",
      "  Price_s=driver.find_elements_by_class_name('_30jeq3')\n",
      "<ipython-input-122-35b043a108ba>:10: DeprecationWarning: find_elements_by_* commands are deprecated. Please use find_elements() instead\n",
      "  Discount_s=driver.find_elements_by_class_name('_3Ay6Sb')\n",
      "<ipython-input-122-35b043a108ba>:28: DeprecationWarning: find_elements_by_* commands are deprecated. Please use find_elements() instead\n",
      "  nxt_button=driver.find_elements_by_xpath(\"//a[@class='_1LKTO3']\")\n"
     ]
    }
   ],
   "source": [
    "start=0\n",
    "\n",
    "end=3\n",
    "\n",
    "for page in range(start,end):\n",
    "\n",
    "    Brand_s=driver.find_elements_by_class_name('_2WkVRV')\n",
    "    Product_s=driver.find_elements_by_class_name('IRpwTa')\n",
    "    Price_s=driver.find_elements_by_class_name('_30jeq3')\n",
    "    Discount_s=driver.find_elements_by_class_name('_3Ay6Sb')\n",
    "\n",
    "    for i in Brand_s:\n",
    "\n",
    "        brand_s.append(i.text)\n",
    "\n",
    "    for i in Product_s:\n",
    "\n",
    "        product_s.append(i.text)\n",
    "\n",
    "    for i in Price_s:\n",
    "\n",
    "        price_s.append(i.text)\n",
    "\n",
    "    for i in Discount_s:\n",
    "\n",
    "        discount_s.append(i.text)\n",
    "\n",
    "        nxt_button=driver.find_elements_by_xpath(\"//a[@class='_1LKTO3']\")\n",
    "\n",
    "    try:\n",
    "\n",
    "        driver.get(nxt_button[1].get_attribute('href'))\n",
    "\n",
    "    except:\n",
    "\n",
    "        driver.get(nxt_button[0].get_attribute('href'))"
   ]
  },
  {
   "cell_type": "code",
   "execution_count": 125,
   "id": "38789d63",
   "metadata": {},
   "outputs": [],
   "source": [
    "BRAND=brand_s[0:100]\n",
    "PRODUCT=product_s[0:100]\n",
    "PRICE=price_s[0:100]\n",
    "DISCOUNT=discount_s[0:100]"
   ]
  },
  {
   "cell_type": "code",
   "execution_count": 126,
   "id": "2d7b07b0",
   "metadata": {},
   "outputs": [
    {
     "name": "stdout",
     "output_type": "stream",
     "text": [
      "100 100 100 100\n"
     ]
    }
   ],
   "source": [
    "print(len(BRAND),len(PRODUCT),len(PRICE),len(DISCOUNT))"
   ]
  },
  {
   "cell_type": "code",
   "execution_count": 127,
   "id": "0faee870",
   "metadata": {},
   "outputs": [],
   "source": [
    "sneakers=pd.DataFrame({})\n",
    "sneakers['Brand']=BRAND\n",
    "sneakers['Product Description']=PRODUCT\n",
    "sneakers['Price']=PRICE\n",
    "sneakers['Discount']=DISCOUNT"
   ]
  },
  {
   "cell_type": "code",
   "execution_count": 128,
   "id": "78e69d93",
   "metadata": {},
   "outputs": [
    {
     "data": {
      "text/html": [
       "<div>\n",
       "<style scoped>\n",
       "    .dataframe tbody tr th:only-of-type {\n",
       "        vertical-align: middle;\n",
       "    }\n",
       "\n",
       "    .dataframe tbody tr th {\n",
       "        vertical-align: top;\n",
       "    }\n",
       "\n",
       "    .dataframe thead th {\n",
       "        text-align: right;\n",
       "    }\n",
       "</style>\n",
       "<table border=\"1\" class=\"dataframe\">\n",
       "  <thead>\n",
       "    <tr style=\"text-align: right;\">\n",
       "      <th></th>\n",
       "      <th>Brand</th>\n",
       "      <th>Product Description</th>\n",
       "      <th>Price</th>\n",
       "      <th>Discount</th>\n",
       "    </tr>\n",
       "  </thead>\n",
       "  <tbody>\n",
       "    <tr>\n",
       "      <th>0</th>\n",
       "      <td>BIRDE</td>\n",
       "      <td>Men Casual Shoes Sneakers For Men</td>\n",
       "      <td>₹299</td>\n",
       "      <td>51% off</td>\n",
       "    </tr>\n",
       "    <tr>\n",
       "      <th>1</th>\n",
       "      <td>BIRDE</td>\n",
       "      <td>Sneakers For Men</td>\n",
       "      <td>₹299</td>\n",
       "      <td>70% off</td>\n",
       "    </tr>\n",
       "    <tr>\n",
       "      <th>2</th>\n",
       "      <td>ASTEROID</td>\n",
       "      <td>Original Luxury Branded Fashionable Men's Casu...</td>\n",
       "      <td>₹499</td>\n",
       "      <td>75% off</td>\n",
       "    </tr>\n",
       "    <tr>\n",
       "      <th>3</th>\n",
       "      <td>Chevit</td>\n",
       "      <td>Super Stylish &amp; Trendy Combo Pack of 02 Pairs ...</td>\n",
       "      <td>₹699</td>\n",
       "      <td>56% off</td>\n",
       "    </tr>\n",
       "    <tr>\n",
       "      <th>4</th>\n",
       "      <td>URBANBOX</td>\n",
       "      <td>Sneakers Sneakers For Men</td>\n",
       "      <td>₹220</td>\n",
       "      <td>77% off</td>\n",
       "    </tr>\n",
       "    <tr>\n",
       "      <th>...</th>\n",
       "      <td>...</td>\n",
       "      <td>...</td>\n",
       "      <td>...</td>\n",
       "      <td>...</td>\n",
       "    </tr>\n",
       "    <tr>\n",
       "      <th>95</th>\n",
       "      <td>CHamps</td>\n",
       "      <td>Dragon-On Sneakers For Men</td>\n",
       "      <td>₹499</td>\n",
       "      <td>66% off</td>\n",
       "    </tr>\n",
       "    <tr>\n",
       "      <th>96</th>\n",
       "      <td>mannu</td>\n",
       "      <td>High-end PU Sneakers Fashion CasualSports comf...</td>\n",
       "      <td>₹499</td>\n",
       "      <td>50% off</td>\n",
       "    </tr>\n",
       "    <tr>\n",
       "      <th>97</th>\n",
       "      <td>BOOYO</td>\n",
       "      <td>Original Luxury Branded Fashionable men's Casu...</td>\n",
       "      <td>₹299</td>\n",
       "      <td>70% off</td>\n",
       "    </tr>\n",
       "    <tr>\n",
       "      <th>98</th>\n",
       "      <td>ROCKFIELD</td>\n",
       "      <td>Sneakers For Men</td>\n",
       "      <td>₹499</td>\n",
       "      <td>57% off</td>\n",
       "    </tr>\n",
       "    <tr>\n",
       "      <th>99</th>\n",
       "      <td>PUMA</td>\n",
       "      <td>Puma Smash Vulc Sneakers For Men</td>\n",
       "      <td>₹497</td>\n",
       "      <td>50% off</td>\n",
       "    </tr>\n",
       "  </tbody>\n",
       "</table>\n",
       "<p>100 rows × 4 columns</p>\n",
       "</div>"
      ],
      "text/plain": [
       "        Brand                                Product Description Price  \\\n",
       "0       BIRDE                  Men Casual Shoes Sneakers For Men  ₹299   \n",
       "1       BIRDE                                   Sneakers For Men  ₹299   \n",
       "2    ASTEROID  Original Luxury Branded Fashionable Men's Casu...  ₹499   \n",
       "3      Chevit  Super Stylish & Trendy Combo Pack of 02 Pairs ...  ₹699   \n",
       "4    URBANBOX                          Sneakers Sneakers For Men  ₹220   \n",
       "..        ...                                                ...   ...   \n",
       "95     CHamps                         Dragon-On Sneakers For Men  ₹499   \n",
       "96      mannu  High-end PU Sneakers Fashion CasualSports comf...  ₹499   \n",
       "97      BOOYO  Original Luxury Branded Fashionable men's Casu...  ₹299   \n",
       "98  ROCKFIELD                                   Sneakers For Men  ₹499   \n",
       "99       PUMA                   Puma Smash Vulc Sneakers For Men  ₹497   \n",
       "\n",
       "   Discount  \n",
       "0   51% off  \n",
       "1   70% off  \n",
       "2   75% off  \n",
       "3   56% off  \n",
       "4   77% off  \n",
       "..      ...  \n",
       "95  66% off  \n",
       "96  50% off  \n",
       "97  70% off  \n",
       "98  57% off  \n",
       "99  50% off  \n",
       "\n",
       "[100 rows x 4 columns]"
      ]
     },
     "execution_count": 128,
     "metadata": {},
     "output_type": "execute_result"
    }
   ],
   "source": [
    "sneakers"
   ]
  },
  {
   "cell_type": "markdown",
   "id": "ce51bb31",
   "metadata": {},
   "source": [
    "# 7."
   ]
  },
  {
   "cell_type": "code",
   "execution_count": 255,
   "id": "4cfa29b4",
   "metadata": {},
   "outputs": [
    {
     "name": "stderr",
     "output_type": "stream",
     "text": [
      "<ipython-input-255-3316efb47fbe>:2: DeprecationWarning: executable_path has been deprecated, please pass in a Service object\n",
      "  driver=webdriver.Chrome(r\"C:\\Users\\user\\Downloads\\chromedriver_win32\\chromedriver.exe\")\n"
     ]
    }
   ],
   "source": [
    "#Connecting to web driver\n",
    "driver=webdriver.Chrome(r\"C:\\Users\\user\\Downloads\\chromedriver_win32\\chromedriver.exe\")"
   ]
  },
  {
   "cell_type": "code",
   "execution_count": 256,
   "id": "a8d29f17",
   "metadata": {},
   "outputs": [],
   "source": [
    "#Getting the web page\n",
    "driver.get(\"https://www.myntra.com/shoes\")"
   ]
  },
  {
   "cell_type": "code",
   "execution_count": 257,
   "id": "d2c4be77",
   "metadata": {},
   "outputs": [
    {
     "name": "stderr",
     "output_type": "stream",
     "text": [
      "<ipython-input-257-612892a91d7c>:2: DeprecationWarning: find_element_by_* commands are deprecated. Please use find_element() instead\n",
      "  black_btn=driver.find_element_by_xpath(\"//span[@data-colorhex='black']\")\n"
     ]
    }
   ],
   "source": [
    "#Colour filtering\n",
    "black_btn=driver.find_element_by_xpath(\"//span[@data-colorhex='black']\")\n",
    "black_btn.click()"
   ]
  },
  {
   "cell_type": "code",
   "execution_count": 258,
   "id": "2689b032",
   "metadata": {},
   "outputs": [
    {
     "name": "stderr",
     "output_type": "stream",
     "text": [
      "<ipython-input-258-ad34324a4955>:2: DeprecationWarning: find_element_by_* commands are deprecated. Please use find_element() instead\n",
      "  fltr=driver.find_element_by_xpath(\"/html/body/div[2]/div/div[1]/main/div[3]/div[1]/section/div/div[5]/ul/li[2]/label\")\n"
     ]
    }
   ],
   "source": [
    "#price filtering\n",
    "fltr=driver.find_element_by_xpath(\"/html/body/div[2]/div/div[1]/main/div[3]/div[1]/section/div/div[5]/ul/li[2]/label\")\n",
    "fltr.click()"
   ]
  },
  {
   "cell_type": "code",
   "execution_count": 259,
   "id": "babe3060",
   "metadata": {},
   "outputs": [],
   "source": [
    "#Creating empty list\n",
    "shoebrand=[]\n",
    "shoedescription=[]\n",
    "shoeprice=[]"
   ]
  },
  {
   "cell_type": "code",
   "execution_count": 260,
   "id": "d46469bb",
   "metadata": {},
   "outputs": [
    {
     "name": "stderr",
     "output_type": "stream",
     "text": [
      "<ipython-input-260-d7296b5eb74a>:3: DeprecationWarning: find_elements_by_* commands are deprecated. Please use find_elements() instead\n",
      "  shoebrands=driver.find_elements_by_class_name('product-brand')\n",
      "<ipython-input-260-d7296b5eb74a>:4: DeprecationWarning: find_elements_by_* commands are deprecated. Please use find_elements() instead\n",
      "  shoedescriptions=driver.find_elements_by_class_name('product-product')\n",
      "<ipython-input-260-d7296b5eb74a>:5: DeprecationWarning: find_elements_by_* commands are deprecated. Please use find_elements() instead\n",
      "  shoeprices=driver.find_elements_by_class_name('product-price')\n",
      "<ipython-input-260-d7296b5eb74a>:20: DeprecationWarning: find_elements_by_* commands are deprecated. Please use find_elements() instead\n",
      "  nxt_button=driver.find_elements_by_xpath(\"//a[@rel='next']\")\n"
     ]
    }
   ],
   "source": [
    "for page in range(0,2):#for loop for scrapping \n",
    "\n",
    "    shoebrands=driver.find_elements_by_class_name('product-brand')\n",
    "    shoedescriptions=driver.find_elements_by_class_name('product-product')\n",
    "    shoeprices=driver.find_elements_by_class_name('product-price')\n",
    "\n",
    "    for i in shoebrands:\n",
    "\n",
    "        shoebrand.append(i.text)\n",
    "\n",
    "    for i in shoedescriptions:\n",
    "\n",
    "        shoedescription.append(i.text)\n",
    "\n",
    "    for i in shoeprices:\n",
    "\n",
    "        shoeprice.append(i.text)\n",
    "\n",
    "\n",
    "        nxt_button=driver.find_elements_by_xpath(\"//a[@rel='next']\")\n",
    "\n",
    "    try:\n",
    "\n",
    "        driver.get(nxt_button[1].get_attribute('href'))\n",
    "\n",
    "    except:\n",
    "\n",
    "        driver.get(nxt_button[0].get_attribute('href'))"
   ]
  },
  {
   "cell_type": "code",
   "execution_count": 261,
   "id": "1e06fa2f",
   "metadata": {},
   "outputs": [
    {
     "data": {
      "text/plain": [
       "(100, 100, 100)"
      ]
     },
     "execution_count": 261,
     "metadata": {},
     "output_type": "execute_result"
    }
   ],
   "source": [
    "len(shoebrand),len(shoedescription),len(shoeprice)"
   ]
  },
  {
   "cell_type": "code",
   "execution_count": 262,
   "id": "d2abee93",
   "metadata": {},
   "outputs": [
    {
     "data": {
      "text/html": [
       "<div>\n",
       "<style scoped>\n",
       "    .dataframe tbody tr th:only-of-type {\n",
       "        vertical-align: middle;\n",
       "    }\n",
       "\n",
       "    .dataframe tbody tr th {\n",
       "        vertical-align: top;\n",
       "    }\n",
       "\n",
       "    .dataframe thead th {\n",
       "        text-align: right;\n",
       "    }\n",
       "</style>\n",
       "<table border=\"1\" class=\"dataframe\">\n",
       "  <thead>\n",
       "    <tr style=\"text-align: right;\">\n",
       "      <th></th>\n",
       "      <th>Brand</th>\n",
       "      <th>Shoe Description</th>\n",
       "      <th>Shoe Price</th>\n",
       "    </tr>\n",
       "  </thead>\n",
       "  <tbody>\n",
       "    <tr>\n",
       "      <th>0</th>\n",
       "      <td>Nike</td>\n",
       "      <td>LEBRON WITNESS Basketball Shoe</td>\n",
       "      <td>Rs. 7465Rs. 8295(10% OFF)</td>\n",
       "    </tr>\n",
       "    <tr>\n",
       "      <th>1</th>\n",
       "      <td>Nike</td>\n",
       "      <td>AIR ZOOM PEGASUS Running Shoes</td>\n",
       "      <td>Rs. 8995Rs. 9995(10% OFF)</td>\n",
       "    </tr>\n",
       "    <tr>\n",
       "      <th>2</th>\n",
       "      <td>Nike</td>\n",
       "      <td>Men AIR PRESTO Sneakers</td>\n",
       "      <td>Rs. 10345Rs. 11495(10% OFF)</td>\n",
       "    </tr>\n",
       "    <tr>\n",
       "      <th>3</th>\n",
       "      <td>Nike</td>\n",
       "      <td>Men Zoom Span 4 Running Shoes</td>\n",
       "      <td>Rs. 7195</td>\n",
       "    </tr>\n",
       "    <tr>\n",
       "      <th>4</th>\n",
       "      <td>Nike</td>\n",
       "      <td>Air Zoom Pegasus 38 Shield Run</td>\n",
       "      <td>Rs. 10345Rs. 11495(10% OFF)</td>\n",
       "    </tr>\n",
       "    <tr>\n",
       "      <th>...</th>\n",
       "      <td>...</td>\n",
       "      <td>...</td>\n",
       "      <td>...</td>\n",
       "    </tr>\n",
       "    <tr>\n",
       "      <th>95</th>\n",
       "      <td>Bugatti</td>\n",
       "      <td>Men Solid Casual Sneakers</td>\n",
       "      <td>Rs. 7199Rs. 8999(20% OFF)</td>\n",
       "    </tr>\n",
       "    <tr>\n",
       "      <th>96</th>\n",
       "      <td>Reebok</td>\n",
       "      <td>Men HIIT Training Shoes</td>\n",
       "      <td>Rs. 9999</td>\n",
       "    </tr>\n",
       "    <tr>\n",
       "      <th>97</th>\n",
       "      <td>Ruosh</td>\n",
       "      <td>Men Solid Leather Formal Monks</td>\n",
       "      <td>Rs. 8990</td>\n",
       "    </tr>\n",
       "    <tr>\n",
       "      <th>98</th>\n",
       "      <td>Puma</td>\n",
       "      <td>Men Magnify Nitro Running</td>\n",
       "      <td>Rs. 10399Rs. 12999(20% OFF)</td>\n",
       "    </tr>\n",
       "    <tr>\n",
       "      <th>99</th>\n",
       "      <td>Geox</td>\n",
       "      <td>Men Solid Sneakers</td>\n",
       "      <td>Rs. 11999</td>\n",
       "    </tr>\n",
       "  </tbody>\n",
       "</table>\n",
       "<p>100 rows × 3 columns</p>\n",
       "</div>"
      ],
      "text/plain": [
       "      Brand                Shoe Description                   Shoe Price\n",
       "0      Nike  LEBRON WITNESS Basketball Shoe    Rs. 7465Rs. 8295(10% OFF)\n",
       "1      Nike  AIR ZOOM PEGASUS Running Shoes    Rs. 8995Rs. 9995(10% OFF)\n",
       "2      Nike         Men AIR PRESTO Sneakers  Rs. 10345Rs. 11495(10% OFF)\n",
       "3      Nike   Men Zoom Span 4 Running Shoes                     Rs. 7195\n",
       "4      Nike  Air Zoom Pegasus 38 Shield Run  Rs. 10345Rs. 11495(10% OFF)\n",
       "..      ...                             ...                          ...\n",
       "95  Bugatti       Men Solid Casual Sneakers    Rs. 7199Rs. 8999(20% OFF)\n",
       "96   Reebok         Men HIIT Training Shoes                     Rs. 9999\n",
       "97    Ruosh  Men Solid Leather Formal Monks                     Rs. 8990\n",
       "98     Puma       Men Magnify Nitro Running  Rs. 10399Rs. 12999(20% OFF)\n",
       "99     Geox              Men Solid Sneakers                    Rs. 11999\n",
       "\n",
       "[100 rows x 3 columns]"
      ]
     },
     "execution_count": 262,
     "metadata": {},
     "output_type": "execute_result"
    }
   ],
   "source": [
    "#Creating dataframe\n",
    "shoe=pd.DataFrame({})\n",
    "shoe['Brand']=shoebrand\n",
    "shoe['Shoe Description']=shoedescription\n",
    "shoe['Shoe Price']=shoeprice\n",
    "shoe"
   ]
  },
  {
   "cell_type": "markdown",
   "id": "f34a0962",
   "metadata": {},
   "source": [
    "# 8."
   ]
  },
  {
   "cell_type": "code",
   "execution_count": 455,
   "id": "59648b60",
   "metadata": {},
   "outputs": [
    {
     "name": "stderr",
     "output_type": "stream",
     "text": [
      "<ipython-input-455-3316efb47fbe>:2: DeprecationWarning: executable_path has been deprecated, please pass in a Service object\n",
      "  driver=webdriver.Chrome(r\"C:\\Users\\user\\Downloads\\chromedriver_win32\\chromedriver.exe\")\n"
     ]
    }
   ],
   "source": [
    "#Connecting to web driver\n",
    "driver=webdriver.Chrome(r\"C:\\Users\\user\\Downloads\\chromedriver_win32\\chromedriver.exe\")"
   ]
  },
  {
   "cell_type": "code",
   "execution_count": 456,
   "id": "69532e25",
   "metadata": {},
   "outputs": [],
   "source": [
    "#Getting the web page\n",
    "driver.get(\"https://www.amazon.in/\")"
   ]
  },
  {
   "cell_type": "code",
   "execution_count": 457,
   "id": "98e193b7",
   "metadata": {},
   "outputs": [
    {
     "name": "stderr",
     "output_type": "stream",
     "text": [
      "<ipython-input-457-cfa93644ade8>:2: DeprecationWarning: find_element_by_* commands are deprecated. Please use find_element() instead\n",
      "  searchdata=driver.find_element_by_id(\"twotabsearchtextbox\")\n",
      "<ipython-input-457-cfa93644ade8>:4: DeprecationWarning: find_element_by_* commands are deprecated. Please use find_element() instead\n",
      "  searchbutton=driver.find_element_by_id(\"nav-search-submit-button\")\n"
     ]
    }
   ],
   "source": [
    "#Entering the data to be searched\n",
    "searchdata=driver.find_element_by_id(\"twotabsearchtextbox\")\n",
    "searchdata.send_keys(\"Laptop\")\n",
    "searchbutton=driver.find_element_by_id(\"nav-search-submit-button\")\n",
    "searchbutton.click()"
   ]
  },
  {
   "cell_type": "code",
   "execution_count": 458,
   "id": "a9f54fae",
   "metadata": {},
   "outputs": [
    {
     "name": "stderr",
     "output_type": "stream",
     "text": [
      "<ipython-input-458-ff8cb41fa82d>:2: DeprecationWarning: find_element_by_* commands are deprecated. Please use find_element() instead\n",
      "  icore7=driver.find_element_by_xpath(\"//*[@id='p_n_feature_thirteen_browse-bin/12598163031']/span/a/span\")\n"
     ]
    }
   ],
   "source": [
    "#Filtering\n",
    "icore7=driver.find_element_by_xpath(\"//*[@id='p_n_feature_thirteen_browse-bin/12598163031']/span/a/span\")\n",
    "icore7.click()"
   ]
  },
  {
   "cell_type": "code",
   "execution_count": 459,
   "id": "14051376",
   "metadata": {},
   "outputs": [],
   "source": [
    "#Creating empty lists\n",
    "Title=[]\n",
    "Ratings=[]\n",
    "Price=[]"
   ]
  },
  {
   "cell_type": "code",
   "execution_count": 471,
   "id": "67d07a5c",
   "metadata": {},
   "outputs": [
    {
     "name": "stderr",
     "output_type": "stream",
     "text": [
      "<ipython-input-471-4a0275260396>:2: DeprecationWarning: find_elements_by_* commands are deprecated. Please use find_elements() instead\n",
      "  title=driver.find_elements_by_xpath(\"//span[@class='a-size-medium a-color-base a-text-normal']\")\n"
     ]
    },
    {
     "data": {
      "text/plain": [
       "['ASUS ZenBook 13 OLED (2021) Intel Core i7-1165G7 11th Gen 14\" (35.56cms) FHD Thin and Light Laptop (16GB/512GB SSD/Windows 10/Office 2019/Intel Iris Xᵉ Graphics/Pine Grey/1.14 kg), UX325EA-KG722TS',\n",
       " 'ASUS ZenBook 14 (2020) Intel Core i7-1165G7 11th Gen 14 inches FHD Business Laptop (16GB/512GB SSD/Office 2019/Windows 10 Home/Iris Xe Graphics/Pine Grey/1.17 kg), UX425EA-KI701TS',\n",
       " 'ASUS TUF Gaming F17 (2021), 17.3-inch (43.94 cms) FHD 144Hz, Intel Core i7-11800H 11th Gen, GeForce RTX 3050 Ti 4GB Graphics, Gaming Laptop (16GB/1TB SSD/Windows 10/Eclipse Gray/2.6 Kg) FX766HE-HX022T',\n",
       " 'Mi Notebook Horizon Edition 14 Intel Core i7-10510U 10th Gen Thin and Light Laptop(8GB/512GB SSD/Windows 10/Nvidia MX350 2GB Graphics/Grey/1.35Kg)(Without Webcam) XMA1904-AF',\n",
       " 'Dell 14 (2021) i7-1195G7 2in1 Touch Screen Laptop, 16GB, 512GB SSD, Win 10 + MS Office, 14.0\" (35.56 cms) FHD Display, Backlit KB, FPR + Active Pen, Platinum Silver (Inspiron 5410, D560596WIN9S)',\n",
       " 'HP Pavilion (2021) Intel 11th Gen Core i7 14 inches FHD Screen Thin & Light Laptop, 16 GB RAM, 1TB SSD, Iris Xe Graphics, Windows 10, MS Office, Backlit Keyboard, 1.41kg (14-dv0058TU)',\n",
       " 'HP Pavilion x360 11th Gen Intel Core i7 14-inch(35.6 cm) Touchscreen 2-in-1 FHD Laptop (16GB/512GB SSD/Fingerprint Reader/Windows 10/MS Office/Natural Silver/1.41 Kg), 14-dy0050TU',\n",
       " 'ASUS TUF Dash F15 (2021), 15.6\" (39.62 cms) FHD 144Hz, Intel Core i7-11370H 11th Gen, RTX 3050 Ti 4GB Graphics, Gaming Laptop (16GB/1TB SSD/Office 2019/Windows 10/Eclipse Gray/2 kg), FX516PE-HN088TS',\n",
       " 'ASUS TUF Gaming F15 (2021) 15.6-inch (39.62 cms) FHD 144Hz, Intel Core i7-11800H 11th Gen, RTX 3050 4GB Graphics, Gaming Laptop (8GB/1TB SSD/Windows 10/Gray/2.3 Kg), FX566HCB-HN231T, Eclipse Gray',\n",
       " 'ASUS TUF Dash F15 (2021) 15.6-inch (39.62 cms) FHD 144Hz, Intel Core i7-11370H 11th Gen, RTX 3050 4GB Graphics, Gaming Laptop (16GB/512GB SSD/Windows 10/Gray/2 Kg), FX516PCZ-HN091T']"
      ]
     },
     "execution_count": 471,
     "metadata": {},
     "output_type": "execute_result"
    }
   ],
   "source": [
    "#Extracting the titles \n",
    "title=driver.find_elements_by_xpath(\"//span[@class='a-size-medium a-color-base a-text-normal']\")\n",
    "for i in title:\n",
    "    titles=i.text\n",
    "    Title.append(titles)\n",
    "Titles=Title[0:10]\n",
    "Titles"
   ]
  },
  {
   "cell_type": "code",
   "execution_count": 492,
   "id": "2b59fe4f",
   "metadata": {},
   "outputs": [
    {
     "name": "stderr",
     "output_type": "stream",
     "text": [
      "<ipython-input-492-062565177df3>:2: DeprecationWarning: find_elements_by_* commands are deprecated. Please use find_elements() instead\n",
      "  ratings=driver.find_elements_by_class_name(\"a-icon-alt\")\n"
     ]
    },
    {
     "data": {
      "text/plain": [
       "['', '', '', '', '', '', '', '', '', '']"
      ]
     },
     "execution_count": 492,
     "metadata": {},
     "output_type": "execute_result"
    }
   ],
   "source": [
    "#Extracting thr rating\n",
    "ratings=driver.find_elements_by_class_name(\"a-icon-alt\")\n",
    "for i in ratings:\n",
    "    Ratings.append(i.text)\n",
    "RatingS=Ratings[0:10]\n",
    "RatingS"
   ]
  },
  {
   "cell_type": "code",
   "execution_count": 470,
   "id": "062ecd8d",
   "metadata": {},
   "outputs": [
    {
     "name": "stderr",
     "output_type": "stream",
     "text": [
      "<ipython-input-470-08e2e1c4fe91>:1: DeprecationWarning: find_elements_by_* commands are deprecated. Please use find_elements() instead\n",
      "  price=driver.find_elements_by_xpath(\"//span[@class='a-price-whole']\")\n"
     ]
    },
    {
     "data": {
      "text/plain": [
       "['98,990',\n",
       " '96,990',\n",
       " '1,13,990',\n",
       " '57,990',\n",
       " '88,490',\n",
       " '84,990',\n",
       " '84,990',\n",
       " '95,990',\n",
       " '99,990',\n",
       " '93,990']"
      ]
     },
     "execution_count": 470,
     "metadata": {},
     "output_type": "execute_result"
    }
   ],
   "source": [
    "price=driver.find_elements_by_xpath(\"//span[@class='a-price-whole']\")\n",
    "for i in price:\n",
    "    prices=i.text\n",
    "    Price.append(prices)\n",
    "Prices=Price[0:10]\n",
    "Prices"
   ]
  },
  {
   "cell_type": "code",
   "execution_count": 473,
   "id": "97f81426",
   "metadata": {},
   "outputs": [
    {
     "data": {
      "text/html": [
       "<div>\n",
       "<style scoped>\n",
       "    .dataframe tbody tr th:only-of-type {\n",
       "        vertical-align: middle;\n",
       "    }\n",
       "\n",
       "    .dataframe tbody tr th {\n",
       "        vertical-align: top;\n",
       "    }\n",
       "\n",
       "    .dataframe thead th {\n",
       "        text-align: right;\n",
       "    }\n",
       "</style>\n",
       "<table border=\"1\" class=\"dataframe\">\n",
       "  <thead>\n",
       "    <tr style=\"text-align: right;\">\n",
       "      <th></th>\n",
       "      <th>Title</th>\n",
       "      <th>Ratings</th>\n",
       "      <th>Price</th>\n",
       "    </tr>\n",
       "  </thead>\n",
       "  <tbody>\n",
       "    <tr>\n",
       "      <th>0</th>\n",
       "      <td>ASUS ZenBook 13 OLED (2021) Intel Core i7-1165...</td>\n",
       "      <td></td>\n",
       "      <td>98,990</td>\n",
       "    </tr>\n",
       "    <tr>\n",
       "      <th>1</th>\n",
       "      <td>ASUS ZenBook 14 (2020) Intel Core i7-1165G7 11...</td>\n",
       "      <td></td>\n",
       "      <td>96,990</td>\n",
       "    </tr>\n",
       "    <tr>\n",
       "      <th>2</th>\n",
       "      <td>ASUS TUF Gaming F17 (2021), 17.3-inch (43.94 c...</td>\n",
       "      <td></td>\n",
       "      <td>1,13,990</td>\n",
       "    </tr>\n",
       "    <tr>\n",
       "      <th>3</th>\n",
       "      <td>Mi Notebook Horizon Edition 14 Intel Core i7-1...</td>\n",
       "      <td></td>\n",
       "      <td>57,990</td>\n",
       "    </tr>\n",
       "    <tr>\n",
       "      <th>4</th>\n",
       "      <td>Dell 14 (2021) i7-1195G7 2in1 Touch Screen Lap...</td>\n",
       "      <td></td>\n",
       "      <td>88,490</td>\n",
       "    </tr>\n",
       "    <tr>\n",
       "      <th>5</th>\n",
       "      <td>HP Pavilion (2021) Intel 11th Gen Core i7 14 i...</td>\n",
       "      <td></td>\n",
       "      <td>84,990</td>\n",
       "    </tr>\n",
       "    <tr>\n",
       "      <th>6</th>\n",
       "      <td>HP Pavilion x360 11th Gen Intel Core i7 14-inc...</td>\n",
       "      <td></td>\n",
       "      <td>84,990</td>\n",
       "    </tr>\n",
       "    <tr>\n",
       "      <th>7</th>\n",
       "      <td>ASUS TUF Dash F15 (2021), 15.6\" (39.62 cms) FH...</td>\n",
       "      <td></td>\n",
       "      <td>95,990</td>\n",
       "    </tr>\n",
       "    <tr>\n",
       "      <th>8</th>\n",
       "      <td>ASUS TUF Gaming F15 (2021) 15.6-inch (39.62 cm...</td>\n",
       "      <td></td>\n",
       "      <td>99,990</td>\n",
       "    </tr>\n",
       "    <tr>\n",
       "      <th>9</th>\n",
       "      <td>ASUS TUF Dash F15 (2021) 15.6-inch (39.62 cms)...</td>\n",
       "      <td></td>\n",
       "      <td>93,990</td>\n",
       "    </tr>\n",
       "  </tbody>\n",
       "</table>\n",
       "</div>"
      ],
      "text/plain": [
       "                                               Title Ratings     Price\n",
       "0  ASUS ZenBook 13 OLED (2021) Intel Core i7-1165...            98,990\n",
       "1  ASUS ZenBook 14 (2020) Intel Core i7-1165G7 11...            96,990\n",
       "2  ASUS TUF Gaming F17 (2021), 17.3-inch (43.94 c...          1,13,990\n",
       "3  Mi Notebook Horizon Edition 14 Intel Core i7-1...            57,990\n",
       "4  Dell 14 (2021) i7-1195G7 2in1 Touch Screen Lap...            88,490\n",
       "5  HP Pavilion (2021) Intel 11th Gen Core i7 14 i...            84,990\n",
       "6  HP Pavilion x360 11th Gen Intel Core i7 14-inc...            84,990\n",
       "7  ASUS TUF Dash F15 (2021), 15.6\" (39.62 cms) FH...            95,990\n",
       "8  ASUS TUF Gaming F15 (2021) 15.6-inch (39.62 cm...            99,990\n",
       "9  ASUS TUF Dash F15 (2021) 15.6-inch (39.62 cms)...            93,990"
      ]
     },
     "execution_count": 473,
     "metadata": {},
     "output_type": "execute_result"
    }
   ],
   "source": [
    "#Making a Dataframe\n",
    "laptop=pd.DataFrame({'Title':Titles,'Ratings':RatingS,'Price':Prices})\n",
    "laptop"
   ]
  },
  {
   "cell_type": "markdown",
   "id": "03f230bb",
   "metadata": {},
   "source": [
    "# 9."
   ]
  },
  {
   "cell_type": "code",
   "execution_count": 227,
   "id": "5aa3d3ef",
   "metadata": {},
   "outputs": [
    {
     "name": "stderr",
     "output_type": "stream",
     "text": [
      "<ipython-input-227-3316efb47fbe>:2: DeprecationWarning: executable_path has been deprecated, please pass in a Service object\n",
      "  driver=webdriver.Chrome(r\"C:\\Users\\user\\Downloads\\chromedriver_win32\\chromedriver.exe\")\n"
     ]
    }
   ],
   "source": [
    "#Connecting to web driver\n",
    "driver=webdriver.Chrome(r\"C:\\Users\\user\\Downloads\\chromedriver_win32\\chromedriver.exe\")"
   ]
  },
  {
   "cell_type": "code",
   "execution_count": 228,
   "id": "df36415c",
   "metadata": {},
   "outputs": [],
   "source": [
    "#1.Getting the web page\n",
    "driver.get(\"https://www.ambitionbox.com/\")"
   ]
  },
  {
   "cell_type": "code",
   "execution_count": 229,
   "id": "0c4ee205",
   "metadata": {},
   "outputs": [
    {
     "name": "stderr",
     "output_type": "stream",
     "text": [
      "<ipython-input-229-12bc7e24ad31>:2: DeprecationWarning: find_element_by_* commands are deprecated. Please use find_element() instead\n",
      "  job=driver.find_element_by_xpath(\"//a[@class='link jobs']\")\n"
     ]
    }
   ],
   "source": [
    "#2. clicking the job option\n",
    "job=driver.find_element_by_xpath(\"//a[@class='link jobs']\")\n",
    "job.click()"
   ]
  },
  {
   "cell_type": "code",
   "execution_count": 230,
   "id": "93abc1fc",
   "metadata": {},
   "outputs": [
    {
     "name": "stderr",
     "output_type": "stream",
     "text": [
      "<ipython-input-230-b82f9010a0f6>:2: DeprecationWarning: find_element_by_* commands are deprecated. Please use find_element() instead\n",
      "  sea=driver.find_element_by_xpath(\"//input[@title='Enter Designation, Company or a Skill']\")\n",
      "<ipython-input-230-b82f9010a0f6>:4: DeprecationWarning: find_element_by_* commands are deprecated. Please use find_element() instead\n",
      "  sbutton=driver.find_element_by_xpath(\"//span[@class='ctas-btn-medium']\")\n"
     ]
    }
   ],
   "source": [
    "#3.Entering the data to be searched and entering search button\n",
    "sea=driver.find_element_by_xpath(\"//input[@title='Enter Designation, Company or a Skill']\")\n",
    "sea.send_keys(\"Data Scientist\")\n",
    "sbutton=driver.find_element_by_xpath(\"//span[@class='ctas-btn-medium']\")\n",
    "sbutton.click()"
   ]
  },
  {
   "cell_type": "code",
   "execution_count": 231,
   "id": "4b8c399c",
   "metadata": {},
   "outputs": [
    {
     "name": "stderr",
     "output_type": "stream",
     "text": [
      "<ipython-input-231-a160375e9dfc>:1: DeprecationWarning: find_element_by_* commands are deprecated. Please use find_element() instead\n",
      "  location=driver.find_element_by_xpath(\"//div[@title='Location']\")\n",
      "<ipython-input-231-a160375e9dfc>:3: DeprecationWarning: find_element_by_* commands are deprecated. Please use find_element() instead\n",
      "  place=driver.find_element_by_id(\"location_Noida\")\n"
     ]
    }
   ],
   "source": [
    "#4. Selecting the location \n",
    "location=driver.find_element_by_xpath(\"//div[@title='Location']\")\n",
    "location.click()\n",
    "place=driver.find_element_by_id(\"location_Noida\")\n",
    "place.click()"
   ]
  },
  {
   "cell_type": "code",
   "execution_count": 232,
   "id": "861d1fcd",
   "metadata": {},
   "outputs": [],
   "source": [
    "#Creating empty list\n",
    "company_name=[]\n",
    "job_post_date=[]\n",
    "company_rating=[]"
   ]
  },
  {
   "cell_type": "code",
   "execution_count": 217,
   "id": "a2173b4e",
   "metadata": {},
   "outputs": [
    {
     "name": "stderr",
     "output_type": "stream",
     "text": [
      "<ipython-input-217-55bc431daeb9>:1: DeprecationWarning: find_elements_by_* commands are deprecated. Please use find_elements() instead\n",
      "  cname=driver.find_elements_by_xpath(\"//p[@class='company body-medium']\")\n"
     ]
    },
    {
     "data": {
      "text/plain": [
       "[<selenium.webdriver.remote.webelement.WebElement (session=\"12195dd3dc8bdc6314736e45897620d4\", element=\"a1727265-3c79-4ba0-9dab-9354e15ea9cf\")>,\n",
       " <selenium.webdriver.remote.webelement.WebElement (session=\"12195dd3dc8bdc6314736e45897620d4\", element=\"72fd2d16-cf2a-426d-8c1e-05f54b29f318\")>,\n",
       " <selenium.webdriver.remote.webelement.WebElement (session=\"12195dd3dc8bdc6314736e45897620d4\", element=\"4eab34b9-78fe-4306-a592-bf60669da3d2\")>,\n",
       " <selenium.webdriver.remote.webelement.WebElement (session=\"12195dd3dc8bdc6314736e45897620d4\", element=\"a940bfac-2a3b-41a3-9dc9-0f34219d32b7\")>,\n",
       " <selenium.webdriver.remote.webelement.WebElement (session=\"12195dd3dc8bdc6314736e45897620d4\", element=\"c4011898-9cb6-4b87-b4c3-ca5628977a40\")>,\n",
       " <selenium.webdriver.remote.webelement.WebElement (session=\"12195dd3dc8bdc6314736e45897620d4\", element=\"c0f54df0-f168-4a55-963e-d997b359379b\")>,\n",
       " <selenium.webdriver.remote.webelement.WebElement (session=\"12195dd3dc8bdc6314736e45897620d4\", element=\"d47af64b-7103-4a06-9a1d-9cd230197145\")>,\n",
       " <selenium.webdriver.remote.webelement.WebElement (session=\"12195dd3dc8bdc6314736e45897620d4\", element=\"33a7cd9f-bf80-48b1-ab54-84a2a1514129\")>,\n",
       " <selenium.webdriver.remote.webelement.WebElement (session=\"12195dd3dc8bdc6314736e45897620d4\", element=\"b894b2fe-c17d-42c3-bc86-ea10aedcabe1\")>,\n",
       " <selenium.webdriver.remote.webelement.WebElement (session=\"12195dd3dc8bdc6314736e45897620d4\", element=\"af5044a9-b9d2-44e8-be1d-a958440be551\")>]"
      ]
     },
     "execution_count": 217,
     "metadata": {},
     "output_type": "execute_result"
    }
   ],
   "source": [
    "#Scraping the company name\n",
    "cname=driver.find_elements_by_xpath(\"//p[@class='company body-medium']\")\n",
    "cname"
   ]
  },
  {
   "cell_type": "code",
   "execution_count": 218,
   "id": "1fb4ca2f",
   "metadata": {},
   "outputs": [
    {
     "data": {
      "text/plain": [
       "['Optum Global Solutions (India) Private Limited',\n",
       " 'Ameriprise Financial',\n",
       " 'Optum Global Solutions (India) Private Limited',\n",
       " 'Steria India Ltd',\n",
       " 'Steria India Ltd',\n",
       " 'HCL Technologies Limited',\n",
       " 'Zyoin',\n",
       " 'GI Group',\n",
       " 'GI Group',\n",
       " 'IBM India Pvt. Limited']"
      ]
     },
     "execution_count": 218,
     "metadata": {},
     "output_type": "execute_result"
    }
   ],
   "source": [
    "for i in cname:\n",
    "    Cname=i.text\n",
    "    company_name.append(Cname)\n",
    "company_name"
   ]
  },
  {
   "cell_type": "code",
   "execution_count": 219,
   "id": "75468b15",
   "metadata": {},
   "outputs": [
    {
     "name": "stderr",
     "output_type": "stream",
     "text": [
      "<ipython-input-219-dd4a93543755>:1: DeprecationWarning: find_elements_by_* commands are deprecated. Please use find_elements() instead\n",
      "  jobpost=driver.find_elements_by_xpath(\"//span[@class='body-small-l']\")\n"
     ]
    },
    {
     "data": {
      "text/plain": [
       "[<selenium.webdriver.remote.webelement.WebElement (session=\"12195dd3dc8bdc6314736e45897620d4\", element=\"7e756d0b-0265-494c-ab0f-d45ca5d9e3c4\")>,\n",
       " <selenium.webdriver.remote.webelement.WebElement (session=\"12195dd3dc8bdc6314736e45897620d4\", element=\"8ca0fd3e-d92f-41bc-8cc7-0d160f49e10a\")>,\n",
       " <selenium.webdriver.remote.webelement.WebElement (session=\"12195dd3dc8bdc6314736e45897620d4\", element=\"07ef19d0-c780-4cb3-9189-fe3976c782e2\")>,\n",
       " <selenium.webdriver.remote.webelement.WebElement (session=\"12195dd3dc8bdc6314736e45897620d4\", element=\"4b3a2229-d9d7-4a63-bf5d-8ccbd37aecd6\")>,\n",
       " <selenium.webdriver.remote.webelement.WebElement (session=\"12195dd3dc8bdc6314736e45897620d4\", element=\"d57d3af9-7d31-44a3-930a-289bf9109943\")>,\n",
       " <selenium.webdriver.remote.webelement.WebElement (session=\"12195dd3dc8bdc6314736e45897620d4\", element=\"848b90d5-9565-489c-8f62-28858243ec98\")>,\n",
       " <selenium.webdriver.remote.webelement.WebElement (session=\"12195dd3dc8bdc6314736e45897620d4\", element=\"6e17b2fa-885c-4724-9534-0929a097c528\")>,\n",
       " <selenium.webdriver.remote.webelement.WebElement (session=\"12195dd3dc8bdc6314736e45897620d4\", element=\"504ace68-cff2-48db-866f-e5329f7a3236\")>,\n",
       " <selenium.webdriver.remote.webelement.WebElement (session=\"12195dd3dc8bdc6314736e45897620d4\", element=\"86ffad73-866c-49fe-9591-d3f9dd59741b\")>,\n",
       " <selenium.webdriver.remote.webelement.WebElement (session=\"12195dd3dc8bdc6314736e45897620d4\", element=\"68c71fc7-bd12-4830-a6a6-fa9d761f319b\")>,\n",
       " <selenium.webdriver.remote.webelement.WebElement (session=\"12195dd3dc8bdc6314736e45897620d4\", element=\"65f1d68f-811c-44b7-a72b-4d40c358c897\")>,\n",
       " <selenium.webdriver.remote.webelement.WebElement (session=\"12195dd3dc8bdc6314736e45897620d4\", element=\"d574f11c-a59f-4fc6-9d9e-faf948554aa4\")>,\n",
       " <selenium.webdriver.remote.webelement.WebElement (session=\"12195dd3dc8bdc6314736e45897620d4\", element=\"0a8ce89e-787d-4ca5-8457-fd5269315ad9\")>,\n",
       " <selenium.webdriver.remote.webelement.WebElement (session=\"12195dd3dc8bdc6314736e45897620d4\", element=\"ae6815b8-a2ee-4cde-95fe-5754e83b273c\")>,\n",
       " <selenium.webdriver.remote.webelement.WebElement (session=\"12195dd3dc8bdc6314736e45897620d4\", element=\"f9c28e28-143a-426d-916a-d92db8e4cfe4\")>,\n",
       " <selenium.webdriver.remote.webelement.WebElement (session=\"12195dd3dc8bdc6314736e45897620d4\", element=\"c81de1b8-e4c5-4a7a-956b-7ca055be694a\")>,\n",
       " <selenium.webdriver.remote.webelement.WebElement (session=\"12195dd3dc8bdc6314736e45897620d4\", element=\"ed4c5408-24e7-44f6-ad3e-375df2b2d3a3\")>,\n",
       " <selenium.webdriver.remote.webelement.WebElement (session=\"12195dd3dc8bdc6314736e45897620d4\", element=\"29f18786-629d-42f7-b4c3-c133d569b924\")>,\n",
       " <selenium.webdriver.remote.webelement.WebElement (session=\"12195dd3dc8bdc6314736e45897620d4\", element=\"a1946730-14ce-4736-975d-eac2e3fe4399\")>,\n",
       " <selenium.webdriver.remote.webelement.WebElement (session=\"12195dd3dc8bdc6314736e45897620d4\", element=\"c26fb6fd-2796-43b7-9fc3-1933264ca94e\")>]"
      ]
     },
     "execution_count": 219,
     "metadata": {},
     "output_type": "execute_result"
    }
   ],
   "source": [
    "#Scraping the job posted date\n",
    "jobpost=driver.find_elements_by_xpath(\"//span[@class='body-small-l']\")\n",
    "jobpost"
   ]
  },
  {
   "cell_type": "code",
   "execution_count": 220,
   "id": "2d390329",
   "metadata": {},
   "outputs": [],
   "source": [
    "for i in jobpost:\n",
    "    Jobpost=(i.text)\n",
    "    job_post_date.append(Jobpost)\n",
    "Job_date=[]"
   ]
  },
  {
   "cell_type": "code",
   "execution_count": 221,
   "id": "6b2e9811",
   "metadata": {},
   "outputs": [],
   "source": [
    "for k in range(0,20,2):\n",
    "    Job_date.append(job_post_date[k])"
   ]
  },
  {
   "cell_type": "code",
   "execution_count": 222,
   "id": "2648d394",
   "metadata": {},
   "outputs": [
    {
     "data": {
      "text/plain": [
       "['6d ago',\n",
       " '1d ago',\n",
       " '27d ago',\n",
       " '18d ago',\n",
       " '18d ago',\n",
       " '29d ago',\n",
       " '7hr ago',\n",
       " '1d ago',\n",
       " '3d ago',\n",
       " '1mon ago']"
      ]
     },
     "execution_count": 222,
     "metadata": {},
     "output_type": "execute_result"
    }
   ],
   "source": [
    "Job_date"
   ]
  },
  {
   "cell_type": "code",
   "execution_count": 223,
   "id": "ac8ce24d",
   "metadata": {},
   "outputs": [
    {
     "name": "stderr",
     "output_type": "stream",
     "text": [
      "<ipython-input-223-4a6ab1a576d9>:1: DeprecationWarning: find_elements_by_* commands are deprecated. Please use find_elements() instead\n",
      "  rating=driver.find_elements_by_xpath(\"//span[@class='body-small']\")\n"
     ]
    },
    {
     "data": {
      "text/plain": [
       "[<selenium.webdriver.remote.webelement.WebElement (session=\"12195dd3dc8bdc6314736e45897620d4\", element=\"3a382129-3f2b-4f75-9afd-64cc15fef53d\")>,\n",
       " <selenium.webdriver.remote.webelement.WebElement (session=\"12195dd3dc8bdc6314736e45897620d4\", element=\"492980bd-6e3c-4c69-a5bc-2ddd607cccb6\")>,\n",
       " <selenium.webdriver.remote.webelement.WebElement (session=\"12195dd3dc8bdc6314736e45897620d4\", element=\"e7a782c9-474b-4e6a-8182-3cacc4c41a85\")>,\n",
       " <selenium.webdriver.remote.webelement.WebElement (session=\"12195dd3dc8bdc6314736e45897620d4\", element=\"5f63a6b8-ac5c-4591-a64a-544ff39e53b3\")>,\n",
       " <selenium.webdriver.remote.webelement.WebElement (session=\"12195dd3dc8bdc6314736e45897620d4\", element=\"ec275685-1523-4026-9611-fd2afb256ae7\")>,\n",
       " <selenium.webdriver.remote.webelement.WebElement (session=\"12195dd3dc8bdc6314736e45897620d4\", element=\"9f2f3231-ae34-4f89-99fe-9fe0cc7fcc19\")>,\n",
       " <selenium.webdriver.remote.webelement.WebElement (session=\"12195dd3dc8bdc6314736e45897620d4\", element=\"b66f0b20-113b-4ce4-b800-2e220947620d\")>,\n",
       " <selenium.webdriver.remote.webelement.WebElement (session=\"12195dd3dc8bdc6314736e45897620d4\", element=\"9d4c1759-c64d-4f33-8348-91d7ad8c16e8\")>,\n",
       " <selenium.webdriver.remote.webelement.WebElement (session=\"12195dd3dc8bdc6314736e45897620d4\", element=\"110008d7-716a-497a-b299-a5f2717fd854\")>,\n",
       " <selenium.webdriver.remote.webelement.WebElement (session=\"12195dd3dc8bdc6314736e45897620d4\", element=\"5071f7d5-075a-41fe-a50c-c16c17d79f56\")>]"
      ]
     },
     "execution_count": 223,
     "metadata": {},
     "output_type": "execute_result"
    }
   ],
   "source": [
    "#Scraping the company rating\n",
    "rating=driver.find_elements_by_xpath(\"//span[@class='body-small']\")\n",
    "rating"
   ]
  },
  {
   "cell_type": "code",
   "execution_count": 224,
   "id": "4c5e197d",
   "metadata": {},
   "outputs": [
    {
     "data": {
      "text/plain": [
       "['4.1', '4.1', '4.1', '4.1', '4.1', '3.8', '4.2', '3.9', '3.9', '4.1']"
      ]
     },
     "execution_count": 224,
     "metadata": {},
     "output_type": "execute_result"
    }
   ],
   "source": [
    "for i in rating:\n",
    "    Rate=i.text\n",
    "    company_rating.append(Rate)\n",
    "company_rating"
   ]
  },
  {
   "cell_type": "code",
   "execution_count": 225,
   "id": "68fe35d3",
   "metadata": {},
   "outputs": [],
   "source": [
    "#Creating Dataframe\n",
    "ambition=pd.DataFrame({})\n",
    "ambition['Company Name']=company_name\n",
    "ambition['Job Posted']=Job_date\n",
    "ambition['Rating of the company']=company_rating"
   ]
  },
  {
   "cell_type": "code",
   "execution_count": 226,
   "id": "c95dedf6",
   "metadata": {},
   "outputs": [
    {
     "data": {
      "text/html": [
       "<div>\n",
       "<style scoped>\n",
       "    .dataframe tbody tr th:only-of-type {\n",
       "        vertical-align: middle;\n",
       "    }\n",
       "\n",
       "    .dataframe tbody tr th {\n",
       "        vertical-align: top;\n",
       "    }\n",
       "\n",
       "    .dataframe thead th {\n",
       "        text-align: right;\n",
       "    }\n",
       "</style>\n",
       "<table border=\"1\" class=\"dataframe\">\n",
       "  <thead>\n",
       "    <tr style=\"text-align: right;\">\n",
       "      <th></th>\n",
       "      <th>Company Name</th>\n",
       "      <th>Job Posted</th>\n",
       "      <th>Rating of the company</th>\n",
       "    </tr>\n",
       "  </thead>\n",
       "  <tbody>\n",
       "    <tr>\n",
       "      <th>0</th>\n",
       "      <td>Optum Global Solutions (India) Private Limited</td>\n",
       "      <td>6d ago</td>\n",
       "      <td>4.1</td>\n",
       "    </tr>\n",
       "    <tr>\n",
       "      <th>1</th>\n",
       "      <td>Ameriprise Financial</td>\n",
       "      <td>1d ago</td>\n",
       "      <td>4.1</td>\n",
       "    </tr>\n",
       "    <tr>\n",
       "      <th>2</th>\n",
       "      <td>Optum Global Solutions (India) Private Limited</td>\n",
       "      <td>27d ago</td>\n",
       "      <td>4.1</td>\n",
       "    </tr>\n",
       "    <tr>\n",
       "      <th>3</th>\n",
       "      <td>Steria India Ltd</td>\n",
       "      <td>18d ago</td>\n",
       "      <td>4.1</td>\n",
       "    </tr>\n",
       "    <tr>\n",
       "      <th>4</th>\n",
       "      <td>Steria India Ltd</td>\n",
       "      <td>18d ago</td>\n",
       "      <td>4.1</td>\n",
       "    </tr>\n",
       "    <tr>\n",
       "      <th>5</th>\n",
       "      <td>HCL Technologies Limited</td>\n",
       "      <td>29d ago</td>\n",
       "      <td>3.8</td>\n",
       "    </tr>\n",
       "    <tr>\n",
       "      <th>6</th>\n",
       "      <td>Zyoin</td>\n",
       "      <td>7hr ago</td>\n",
       "      <td>4.2</td>\n",
       "    </tr>\n",
       "    <tr>\n",
       "      <th>7</th>\n",
       "      <td>GI Group</td>\n",
       "      <td>1d ago</td>\n",
       "      <td>3.9</td>\n",
       "    </tr>\n",
       "    <tr>\n",
       "      <th>8</th>\n",
       "      <td>GI Group</td>\n",
       "      <td>3d ago</td>\n",
       "      <td>3.9</td>\n",
       "    </tr>\n",
       "    <tr>\n",
       "      <th>9</th>\n",
       "      <td>IBM India Pvt. Limited</td>\n",
       "      <td>1mon ago</td>\n",
       "      <td>4.1</td>\n",
       "    </tr>\n",
       "  </tbody>\n",
       "</table>\n",
       "</div>"
      ],
      "text/plain": [
       "                                     Company Name Job Posted  \\\n",
       "0  Optum Global Solutions (India) Private Limited     6d ago   \n",
       "1                            Ameriprise Financial     1d ago   \n",
       "2  Optum Global Solutions (India) Private Limited    27d ago   \n",
       "3                                Steria India Ltd    18d ago   \n",
       "4                                Steria India Ltd    18d ago   \n",
       "5                        HCL Technologies Limited    29d ago   \n",
       "6                                           Zyoin    7hr ago   \n",
       "7                                        GI Group     1d ago   \n",
       "8                                        GI Group     3d ago   \n",
       "9                          IBM India Pvt. Limited   1mon ago   \n",
       "\n",
       "  Rating of the company  \n",
       "0                   4.1  \n",
       "1                   4.1  \n",
       "2                   4.1  \n",
       "3                   4.1  \n",
       "4                   4.1  \n",
       "5                   3.8  \n",
       "6                   4.2  \n",
       "7                   3.9  \n",
       "8                   3.9  \n",
       "9                   4.1  "
      ]
     },
     "execution_count": 226,
     "metadata": {},
     "output_type": "execute_result"
    }
   ],
   "source": [
    "ambition"
   ]
  },
  {
   "cell_type": "markdown",
   "id": "00b5a751",
   "metadata": {},
   "source": [
    "# 10."
   ]
  },
  {
   "cell_type": "code",
   "execution_count": 551,
   "id": "34cad5cc",
   "metadata": {},
   "outputs": [
    {
     "name": "stderr",
     "output_type": "stream",
     "text": [
      "<ipython-input-551-3316efb47fbe>:2: DeprecationWarning: executable_path has been deprecated, please pass in a Service object\n",
      "  driver=webdriver.Chrome(r\"C:\\Users\\user\\Downloads\\chromedriver_win32\\chromedriver.exe\")\n"
     ]
    }
   ],
   "source": [
    "#Connecting to web driver\n",
    "driver=webdriver.Chrome(r\"C:\\Users\\user\\Downloads\\chromedriver_win32\\chromedriver.exe\")"
   ]
  },
  {
   "cell_type": "code",
   "execution_count": 552,
   "id": "a02a1428",
   "metadata": {},
   "outputs": [],
   "source": [
    "#1.Getting the web page\n",
    "driver.get(\"https://www.ambitionbox.com/\")"
   ]
  },
  {
   "cell_type": "code",
   "execution_count": 553,
   "id": "85fb9803",
   "metadata": {},
   "outputs": [
    {
     "name": "stderr",
     "output_type": "stream",
     "text": [
      "<ipython-input-553-b35d2831a7d0>:2: DeprecationWarning: find_element_by_* commands are deprecated. Please use find_element() instead\n",
      "  salaries=driver.find_element_by_xpath(\"//a[@class='link salaries']\")\n"
     ]
    }
   ],
   "source": [
    "#2.Selecting salaries option\n",
    "salaries=driver.find_element_by_xpath(\"//a[@class='link salaries']\")\n",
    "salaries.click()"
   ]
  },
  {
   "cell_type": "code",
   "execution_count": 556,
   "id": "ab03796d",
   "metadata": {},
   "outputs": [
    {
     "name": "stderr",
     "output_type": "stream",
     "text": [
      "<ipython-input-556-d6287cf16a79>:2: DeprecationWarning: find_element_by_* commands are deprecated. Please use find_element() instead\n",
      "  searchsalary=driver.find_element_by_xpath(\"//input[@placeholder='Search job profiles']\")\n"
     ]
    }
   ],
   "source": [
    "#3.Entering the data to be searched and clicking the search button\n",
    "searchsalary=driver.find_element_by_xpath(\"//input[@placeholder='Search job profiles']\")\n",
    "searchsalary.send_keys(\"Data Scientist\")"
   ]
  },
  {
   "cell_type": "code",
   "execution_count": 557,
   "id": "55f42f9a",
   "metadata": {},
   "outputs": [
    {
     "name": "stderr",
     "output_type": "stream",
     "text": [
      "<ipython-input-557-7b12e170eecc>:1: DeprecationWarning: find_element_by_* commands are deprecated. Please use find_element() instead\n",
      "  enter=driver.find_element_by_xpath(\"//div[@class='suggestion_wrap tt-suggestion tt-selectable']\")\n"
     ]
    }
   ],
   "source": [
    "enter=driver.find_element_by_xpath(\"//div[@class='suggestion_wrap tt-suggestion tt-selectable']\")\n",
    "enter.click()"
   ]
  },
  {
   "cell_type": "code",
   "execution_count": 558,
   "id": "7271d9eb",
   "metadata": {},
   "outputs": [],
   "source": [
    "#Creating empty list to store data\n",
    "Company_name=[]\n",
    "Total_salary_record=[]\n",
    "Avg_salary=[]\n",
    "Min_salary=[]\n",
    "Max_salary=[]\n",
    "Exp_required=[]"
   ]
  },
  {
   "cell_type": "code",
   "execution_count": 559,
   "id": "e87d533e",
   "metadata": {},
   "outputs": [
    {
     "name": "stderr",
     "output_type": "stream",
     "text": [
      "<ipython-input-559-751ce19065b5>:2: DeprecationWarning: find_elements_by_* commands are deprecated. Please use find_elements() instead\n",
      "  companyname=driver.find_elements_by_class_name(\"name\")\n"
     ]
    },
    {
     "data": {
      "text/plain": [
       "['Ab Inbev',\n",
       " 'Optum',\n",
       " 'Fractal Analytics',\n",
       " 'Tiger Analytics',\n",
       " 'UnitedHealth',\n",
       " 'Verizon',\n",
       " 'Ganit Business Solutions',\n",
       " 'Deloitte',\n",
       " 'Ernst & Young',\n",
       " 'Ericsson']"
      ]
     },
     "execution_count": 559,
     "metadata": {},
     "output_type": "execute_result"
    }
   ],
   "source": [
    "#scraping company name\n",
    "companyname=driver.find_elements_by_class_name(\"name\")\n",
    "for i in companyname:\n",
    "    Company_name.append(i.text.split('\\n')[0])\n",
    "Company_Name=Company_name[0:10]\n",
    "Company_Name"
   ]
  },
  {
   "cell_type": "code",
   "execution_count": 561,
   "id": "39ff9281",
   "metadata": {},
   "outputs": [
    {
     "name": "stderr",
     "output_type": "stream",
     "text": [
      "<ipython-input-561-366f7f09d270>:1: DeprecationWarning: find_elements_by_* commands are deprecated. Please use find_elements() instead\n",
      "  totalsalary=driver.find_elements_by_class_name(\"name\")\n"
     ]
    },
    {
     "data": {
      "text/plain": [
       "['based on 10 salaries',\n",
       " 'based on 22 salaries',\n",
       " 'based on 60 salaries',\n",
       " 'based on 24 salaries',\n",
       " 'based on 45 salaries',\n",
       " 'based on 14 salaries',\n",
       " 'based on 12 salaries',\n",
       " 'based on 45 salaries',\n",
       " 'based on 26 salaries',\n",
       " 'based on 43 salaries']"
      ]
     },
     "execution_count": 561,
     "metadata": {},
     "output_type": "execute_result"
    }
   ],
   "source": [
    "totalsalary=driver.find_elements_by_class_name(\"name\")\n",
    "for i in totalsalary:\n",
    "    Total_salary_record.append(i.text.split('\\n')[1])\n",
    "salary_record=Total_salary_record[0:10]\n",
    "salary_record"
   ]
  },
  {
   "cell_type": "code",
   "execution_count": 562,
   "id": "a4b47c1c",
   "metadata": {},
   "outputs": [
    {
     "name": "stderr",
     "output_type": "stream",
     "text": [
      "<ipython-input-562-cd13da9b6a52>:1: DeprecationWarning: find_elements_by_* commands are deprecated. Please use find_elements() instead\n",
      "  experience=driver.find_elements_by_xpath(\"//div[@class='salaries sbold-list-header']\")\n"
     ]
    },
    {
     "data": {
      "text/plain": [
       "['4 yrs exp',\n",
       " '3-4 yrs exp',\n",
       " '2-4 yrs exp',\n",
       " '3-4 yrs exp',\n",
       " '2-4 yrs exp',\n",
       " '4 yrs exp',\n",
       " '4 yrs exp',\n",
       " '2-4 yrs exp',\n",
       " '3-4 yrs exp',\n",
       " '3-4 yrs exp']"
      ]
     },
     "execution_count": 562,
     "metadata": {},
     "output_type": "execute_result"
    }
   ],
   "source": [
    "experience=driver.find_elements_by_xpath(\"//div[@class='salaries sbold-list-header']\")\n",
    "for i in experience:\n",
    "    Exp_required.append(i.text.split('\\n')[2])\n",
    "Exp_required"
   ]
  },
  {
   "cell_type": "code",
   "execution_count": 563,
   "id": "99134189",
   "metadata": {},
   "outputs": [
    {
     "name": "stderr",
     "output_type": "stream",
     "text": [
      "<ipython-input-563-d482c5b7379f>:1: DeprecationWarning: find_elements_by_* commands are deprecated. Please use find_elements() instead\n",
      "  avgsalary=driver.find_elements_by_xpath(\"//p[@class='averageCtc']\")\n"
     ]
    },
    {
     "data": {
      "text/plain": [
       "['₹ 19.4L',\n",
       " '₹ 15.1L',\n",
       " '₹ 14.7L',\n",
       " '₹ 13.4L',\n",
       " '₹ 13.3L',\n",
       " '₹ 12.7L',\n",
       " '₹ 12.4L',\n",
       " '₹ 11.2L',\n",
       " '₹ 11.1L',\n",
       " '₹ 10.9L']"
      ]
     },
     "execution_count": 563,
     "metadata": {},
     "output_type": "execute_result"
    }
   ],
   "source": [
    "avgsalary=driver.find_elements_by_xpath(\"//p[@class='averageCtc']\")\n",
    "for i in avgsalary:\n",
    "    Avg_salary.append(i.text)\n",
    "Avg_salary"
   ]
  },
  {
   "cell_type": "code",
   "execution_count": 566,
   "id": "5fc13369",
   "metadata": {},
   "outputs": [
    {
     "name": "stderr",
     "output_type": "stream",
     "text": [
      "<ipython-input-566-84af70438f54>:1: DeprecationWarning: find_elements_by_* commands are deprecated. Please use find_elements() instead\n",
      "  minsalary=driver.find_elements_by_xpath(\"//div[@class='value body-medium']\")\n"
     ]
    },
    {
     "data": {
      "text/plain": [
       "['₹ 15.0L',\n",
       " '₹ 23.0L',\n",
       " '₹ 11.0L',\n",
       " '₹ 21.3L',\n",
       " '₹ 9.0L',\n",
       " '₹ 20.8L',\n",
       " '₹ 8.3L',\n",
       " '₹ 18.5L',\n",
       " '₹ 7.2L',\n",
       " '₹ 20.5L',\n",
       " '₹ 10.0L',\n",
       " '₹ 21.0L',\n",
       " '₹ 8.5L',\n",
       " '₹ 15.0L',\n",
       " '₹ 6.9L',\n",
       " '₹ 20.5L',\n",
       " '₹ 6.0L',\n",
       " '₹ 20.0L',\n",
       " '₹ 5.0L',\n",
       " '₹ 21.5L']"
      ]
     },
     "execution_count": 566,
     "metadata": {},
     "output_type": "execute_result"
    }
   ],
   "source": [
    "minsalary=driver.find_elements_by_xpath(\"//div[@class='value body-medium']\")\n",
    "for i in minsalary:\n",
    "    Min_salary.append(i.text)\n",
    "Min_salary"
   ]
  },
  {
   "cell_type": "code",
   "execution_count": 571,
   "id": "00bd5b17",
   "metadata": {},
   "outputs": [
    {
     "data": {
      "text/plain": [
       "['₹ 15.0L',\n",
       " '₹ 11.0L',\n",
       " '₹ 9.0L',\n",
       " '₹ 8.3L',\n",
       " '₹ 7.2L',\n",
       " '₹ 10.0L',\n",
       " '₹ 8.5L',\n",
       " '₹ 6.9L',\n",
       " '₹ 6.0L',\n",
       " '₹ 5.0L']"
      ]
     },
     "execution_count": 571,
     "metadata": {},
     "output_type": "execute_result"
    }
   ],
   "source": [
    "MIN_sal=[]\n",
    "\n",
    "for i in range(0,20,2):\n",
    "    MIN_sal.append(Min_salary[i])\n",
    "MIN_sal"
   ]
  },
  {
   "cell_type": "code",
   "execution_count": 572,
   "id": "149962d7",
   "metadata": {},
   "outputs": [
    {
     "data": {
      "text/plain": [
       "['₹ 23.0L',\n",
       " '₹ 21.3L',\n",
       " '₹ 20.8L',\n",
       " '₹ 18.5L',\n",
       " '₹ 20.5L',\n",
       " '₹ 21.0L',\n",
       " '₹ 15.0L',\n",
       " '₹ 20.5L',\n",
       " '₹ 20.0L',\n",
       " '₹ 21.5L']"
      ]
     },
     "execution_count": 572,
     "metadata": {},
     "output_type": "execute_result"
    }
   ],
   "source": [
    "MAX_sal=[]\n",
    "\n",
    "for i in range(1,20,2):\n",
    "    MAX_sal.append(Min_salary[i])\n",
    "MAX_sal"
   ]
  },
  {
   "cell_type": "code",
   "execution_count": 573,
   "id": "14df5334",
   "metadata": {},
   "outputs": [
    {
     "data": {
      "text/html": [
       "<div>\n",
       "<style scoped>\n",
       "    .dataframe tbody tr th:only-of-type {\n",
       "        vertical-align: middle;\n",
       "    }\n",
       "\n",
       "    .dataframe tbody tr th {\n",
       "        vertical-align: top;\n",
       "    }\n",
       "\n",
       "    .dataframe thead th {\n",
       "        text-align: right;\n",
       "    }\n",
       "</style>\n",
       "<table border=\"1\" class=\"dataframe\">\n",
       "  <thead>\n",
       "    <tr style=\"text-align: right;\">\n",
       "      <th></th>\n",
       "      <th>Company Name</th>\n",
       "      <th>Total Salary Record</th>\n",
       "      <th>Average Salary</th>\n",
       "      <th>Minimum Salary</th>\n",
       "      <th>Maximum Salary</th>\n",
       "    </tr>\n",
       "  </thead>\n",
       "  <tbody>\n",
       "    <tr>\n",
       "      <th>0</th>\n",
       "      <td>Ab Inbev</td>\n",
       "      <td>based on 10 salaries</td>\n",
       "      <td>₹ 19.4L</td>\n",
       "      <td>₹ 15.0L</td>\n",
       "      <td>₹ 23.0L</td>\n",
       "    </tr>\n",
       "    <tr>\n",
       "      <th>1</th>\n",
       "      <td>Optum</td>\n",
       "      <td>based on 22 salaries</td>\n",
       "      <td>₹ 15.1L</td>\n",
       "      <td>₹ 11.0L</td>\n",
       "      <td>₹ 21.3L</td>\n",
       "    </tr>\n",
       "    <tr>\n",
       "      <th>2</th>\n",
       "      <td>Fractal Analytics</td>\n",
       "      <td>based on 60 salaries</td>\n",
       "      <td>₹ 14.7L</td>\n",
       "      <td>₹ 9.0L</td>\n",
       "      <td>₹ 20.8L</td>\n",
       "    </tr>\n",
       "    <tr>\n",
       "      <th>3</th>\n",
       "      <td>Tiger Analytics</td>\n",
       "      <td>based on 24 salaries</td>\n",
       "      <td>₹ 13.4L</td>\n",
       "      <td>₹ 8.3L</td>\n",
       "      <td>₹ 18.5L</td>\n",
       "    </tr>\n",
       "    <tr>\n",
       "      <th>4</th>\n",
       "      <td>UnitedHealth</td>\n",
       "      <td>based on 45 salaries</td>\n",
       "      <td>₹ 13.3L</td>\n",
       "      <td>₹ 7.2L</td>\n",
       "      <td>₹ 20.5L</td>\n",
       "    </tr>\n",
       "    <tr>\n",
       "      <th>5</th>\n",
       "      <td>Verizon</td>\n",
       "      <td>based on 14 salaries</td>\n",
       "      <td>₹ 12.7L</td>\n",
       "      <td>₹ 10.0L</td>\n",
       "      <td>₹ 21.0L</td>\n",
       "    </tr>\n",
       "    <tr>\n",
       "      <th>6</th>\n",
       "      <td>Ganit Business Solutions</td>\n",
       "      <td>based on 12 salaries</td>\n",
       "      <td>₹ 12.4L</td>\n",
       "      <td>₹ 8.5L</td>\n",
       "      <td>₹ 15.0L</td>\n",
       "    </tr>\n",
       "    <tr>\n",
       "      <th>7</th>\n",
       "      <td>Deloitte</td>\n",
       "      <td>based on 45 salaries</td>\n",
       "      <td>₹ 11.2L</td>\n",
       "      <td>₹ 6.9L</td>\n",
       "      <td>₹ 20.5L</td>\n",
       "    </tr>\n",
       "    <tr>\n",
       "      <th>8</th>\n",
       "      <td>Ernst &amp; Young</td>\n",
       "      <td>based on 26 salaries</td>\n",
       "      <td>₹ 11.1L</td>\n",
       "      <td>₹ 6.0L</td>\n",
       "      <td>₹ 20.0L</td>\n",
       "    </tr>\n",
       "    <tr>\n",
       "      <th>9</th>\n",
       "      <td>Ericsson</td>\n",
       "      <td>based on 43 salaries</td>\n",
       "      <td>₹ 10.9L</td>\n",
       "      <td>₹ 5.0L</td>\n",
       "      <td>₹ 21.5L</td>\n",
       "    </tr>\n",
       "  </tbody>\n",
       "</table>\n",
       "</div>"
      ],
      "text/plain": [
       "               Company Name   Total Salary Record Average Salary  \\\n",
       "0                  Ab Inbev  based on 10 salaries        ₹ 19.4L   \n",
       "1                     Optum  based on 22 salaries        ₹ 15.1L   \n",
       "2         Fractal Analytics  based on 60 salaries        ₹ 14.7L   \n",
       "3           Tiger Analytics  based on 24 salaries        ₹ 13.4L   \n",
       "4              UnitedHealth  based on 45 salaries        ₹ 13.3L   \n",
       "5                   Verizon  based on 14 salaries        ₹ 12.7L   \n",
       "6  Ganit Business Solutions  based on 12 salaries        ₹ 12.4L   \n",
       "7                  Deloitte  based on 45 salaries        ₹ 11.2L   \n",
       "8             Ernst & Young  based on 26 salaries        ₹ 11.1L   \n",
       "9                  Ericsson  based on 43 salaries        ₹ 10.9L   \n",
       "\n",
       "  Minimum Salary Maximum Salary  \n",
       "0        ₹ 15.0L        ₹ 23.0L  \n",
       "1        ₹ 11.0L        ₹ 21.3L  \n",
       "2         ₹ 9.0L        ₹ 20.8L  \n",
       "3         ₹ 8.3L        ₹ 18.5L  \n",
       "4         ₹ 7.2L        ₹ 20.5L  \n",
       "5        ₹ 10.0L        ₹ 21.0L  \n",
       "6         ₹ 8.5L        ₹ 15.0L  \n",
       "7         ₹ 6.9L        ₹ 20.5L  \n",
       "8         ₹ 6.0L        ₹ 20.0L  \n",
       "9         ₹ 5.0L        ₹ 21.5L  "
      ]
     },
     "execution_count": 573,
     "metadata": {},
     "output_type": "execute_result"
    }
   ],
   "source": [
    "#Making Dataframe\n",
    "salary_data=pd.DataFrame({'Company Name':Company_Name,'Total Salary Record':salary_record,'Average Salary':Avg_salary,'Minimum Salary':MIN_sal,'Maximum Salary':MAX_sal})\n",
    "salary_data\n"
   ]
  },
  {
   "cell_type": "code",
   "execution_count": null,
   "id": "0b4ff8bc",
   "metadata": {},
   "outputs": [],
   "source": []
  }
 ],
 "metadata": {
  "kernelspec": {
   "display_name": "Python 3",
   "language": "python",
   "name": "python3"
  },
  "language_info": {
   "codemirror_mode": {
    "name": "ipython",
    "version": 3
   },
   "file_extension": ".py",
   "mimetype": "text/x-python",
   "name": "python",
   "nbconvert_exporter": "python",
   "pygments_lexer": "ipython3",
   "version": "3.8.8"
  }
 },
 "nbformat": 4,
 "nbformat_minor": 5
}
